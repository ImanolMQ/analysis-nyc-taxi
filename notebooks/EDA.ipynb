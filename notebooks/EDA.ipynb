{
 "cells": [
  {
   "metadata": {
    "ExecuteTime": {
     "end_time": "2025-10-10T15:54:43.895025Z",
     "start_time": "2025-10-10T15:54:40.925017Z"
    }
   },
   "cell_type": "code",
   "source": [
    "import logging\n",
    "import random\n",
    "import re\n",
    "import time\n",
    "from collections import Counter\n",
    "from collections.abc import Sequence, Iterable\n",
    "from pathlib import Path\n",
    "from typing import Literal, Any\n",
    "from itertools import groupby\n",
    "import matplotlib.pyplot as plt\n",
    "\n",
    "import polars as pl\n",
    "import requests\n",
    "import pickle\n",
    "from tqdm.auto import tqdm"
   ],
   "id": "5d9a845a5225241f",
   "outputs": [],
   "execution_count": 1
  },
  {
   "metadata": {
    "ExecuteTime": {
     "end_time": "2025-10-10T15:55:12.306899Z",
     "start_time": "2025-10-10T15:55:12.300197Z"
    }
   },
   "cell_type": "code",
   "source": [
    "logging.basicConfig(\n",
    "    format=\"%(levelname)s: %(message)s\",\n",
    "    level=logging.INFO,\n",
    "    force=True\n",
    ")\n",
    "\n",
    "PATH_RAW = Path(\"../data/raw\")\n",
    "PATH_MONTHLY = Path(\"../data/monthly\")\n",
    "YELLOW_PATH_PATTERN = \"yellow_tripdata*.parquet\"\n",
    "\n",
    "\n",
    "def get_progress_bar(\n",
    "        data: Iterable,\n",
    "        desc: str | None = None,\n",
    "        unit: str | None = None,\n",
    "        colour: str | None = None,\n",
    "        leave: bool | None = None,\n",
    "        position: int | None = None\n",
    ") -> tqdm:\n",
    "    \"\"\"\n",
    "    Create a tqdm progress bar with optional parameters.\n",
    "\n",
    "    :param data: Iterable to iterate over.\n",
    "    :param desc: Description text displayed before the bar.\n",
    "    :param unit: Unit of iteration (e.g., 'files', 'rows').\n",
    "    :param colour: Colour of the progress bar.\n",
    "    :param leave: Whether to leave the bar after completion.\n",
    "    :param position: Position index for multiple bars.\n",
    "    :return: Configured tqdm progress bar.\n",
    "    \"\"\"\n",
    "\n",
    "    opts = {k: v for k, v in {\n",
    "        \"desc\": desc, \"unit\": unit, \"colour\": colour,\n",
    "        \"leave\": leave, \"position\": position\n",
    "    }.items() if v is not None}\n",
    "\n",
    "    return tqdm(data, **opts)\n",
    "\n",
    "\n",
    "def get_dates(\n",
    "        years: Sequence[int | str] | None = None,\n",
    "        months: Sequence[int | str] | None = None\n",
    ") -> list[tuple[str, str]]:\n",
    "    \"\"\"\n",
    "    Generate all (year, month) combinations.\n",
    "\n",
    "    :param years: Sequence of years (e.g., ``[\"2020\", \"2021\"]``). Defaults to 2011–2025.\n",
    "    :param months: Sequence of months in ``\"MM\"`` format. Defaults to 01–12.\n",
    "    :return: List of (year, month) tuples.\n",
    "    \"\"\"\n",
    "    years = years or range(2011, 2025)\n",
    "    months = months or range(1, 13)\n",
    "\n",
    "    years_str = [f\"{int(y):04d}\" for y in years]\n",
    "    months_str = [f\"{int(m):02d}\" for m in months]\n",
    "\n",
    "    return [(year, month) for year in years_str for month in months_str]"
   ],
   "id": "b73922c5f6cce59e",
   "outputs": [],
   "execution_count": 2
  },
  {
   "metadata": {},
   "cell_type": "markdown",
   "source": "# EDA NYC TLC",
   "id": "51a255f1fdba148d"
  },
  {
   "metadata": {},
   "cell_type": "markdown",
   "source": "## Descarga de los datos",
   "id": "accf54afae1d2a23"
  },
  {
   "metadata": {
    "ExecuteTime": {
     "end_time": "2025-10-10T15:55:14.283011Z",
     "start_time": "2025-10-10T15:55:14.274496Z"
    }
   },
   "cell_type": "code",
   "source": [
    "def print_summary(\n",
    "        total_downloads: int,\n",
    "        files_already_downloaded: int,\n",
    "        errors: list[tuple[str, str]],\n",
    "        check: bool = False\n",
    ") -> None:\n",
    "    \"\"\"\n",
    "    Print a summary of the download process.\n",
    "\n",
    "    :param total_downloads: Number of files successfully downloaded.\n",
    "    :param files_already_downloaded: Number of files skipped because they already existed.\n",
    "    :param errors: List of (url, error) tuples for failed downloads.\n",
    "    :param check: If True, some downloads may have been skipped due to existing files.\n",
    "    \"\"\"\n",
    "    msg = [\"\\n📥 Download summary:\"]\n",
    "    if check:\n",
    "        msg.append(f\"\\t📂 Files already existed: {files_already_downloaded}\")\n",
    "    msg.append(f\"\\t✅ Files downloaded: {total_downloads}\")\n",
    "\n",
    "    logging.info(\"\\n\".join(msg))\n",
    "\n",
    "    if errors:\n",
    "        err_msg = [\n",
    "            f\"\\n⚠️ Errors in {len(errors)} downloads (showing up to 5):\"]\n",
    "        err_msg += [f\"  - {url} → {err}\" for url, err in errors[:5]]\n",
    "        logging.warning(\"\\n\".join(err_msg))\n",
    "\n",
    "\n",
    "def download_nyc_taxi(\n",
    "        years: Sequence[str] | None = None,\n",
    "        months: Sequence[str] | None = None,\n",
    "        check: bool = False\n",
    ") -> None:\n",
    "    \"\"\"\n",
    "    Download NYC yellow taxi trip data in Parquet format.\n",
    "\n",
    "    :param years: Sequence of years (e.g., ``[\"2020\", \"2021\"]``). Defaults to 2011–2025.\n",
    "    :param months: Sequence of months in ``\"MM\"`` format. Defaults to 01–12.\n",
    "    :param check: If True, skip downloads for files that already exist.\n",
    "    \"\"\"\n",
    "    dates = get_dates(years, months)\n",
    "    total, skipped, errors = 0, 0, []\n",
    "\n",
    "    progress = get_progress_bar(dates, desc=\"📂 Downloading files\", unit=\"file\")\n",
    "\n",
    "    for year, month in progress:\n",
    "        path = Path(PATH_RAW) / f\"yellow_tripdata_{year}-{month}.parquet\"\n",
    "        if check and path.exists():\n",
    "            skipped += 1\n",
    "            continue\n",
    "\n",
    "        path.parent.mkdir(parents=True, exist_ok=True)\n",
    "        url = f\"https://d37ci6vzurychx.cloudfront.net/trip-data/{path.name}\"\n",
    "\n",
    "        try:\n",
    "            with requests.get(url, stream=True, timeout=60) as r:\n",
    "                r.raise_for_status()\n",
    "                with open(path, \"wb\") as f:\n",
    "                    for chunk in r.iter_content(chunk_size=8192):\n",
    "                        f.write(chunk)\n",
    "            total += 1\n",
    "        except requests.exceptions.RequestException as e:\n",
    "            errors.append((url, str(e)))\n",
    "\n",
    "        # Random wait to avoid hammering the server\n",
    "        time.sleep(random.uniform(1, 3))\n",
    "\n",
    "    print_summary(total, skipped, errors, check)"
   ],
   "id": "a0831f9eac54df81",
   "outputs": [],
   "execution_count": 3
  },
  {
   "metadata": {
    "ExecuteTime": {
     "end_time": "2025-10-09T13:04:52.439489Z",
     "start_time": "2025-10-09T12:48:01.736211Z"
    }
   },
   "cell_type": "code",
   "source": "download_nyc_taxi(check=True)",
   "id": "b5cc4db73aaba997",
   "outputs": [
    {
     "data": {
      "text/plain": [
       "📂 Downloading files:   0%|          | 0/168 [00:00<?, ?file/s]"
      ],
      "application/vnd.jupyter.widget-view+json": {
       "version_major": 2,
       "version_minor": 0,
       "model_id": "820d077081de4851bfdcd38dc5805d81"
      }
     },
     "metadata": {},
     "output_type": "display_data"
    },
    {
     "name": "stderr",
     "output_type": "stream",
     "text": [
      "INFO: \n",
      "📥 Download summary:\n",
      "\t📂 Files already existed: 0\n",
      "\t✅ Files downloaded: 168\n"
     ]
    }
   ],
   "execution_count": 5
  },
  {
   "metadata": {},
   "cell_type": "markdown",
   "source": "## Inspección de datos",
   "id": "c437853a8af3bc49"
  },
  {
   "metadata": {},
   "cell_type": "markdown",
   "source": "### Diccionario de Variables – Yellow Taxi TLC\n",
   "id": "6995c3fc059f9eb5"
  },
  {
   "metadata": {},
   "cell_type": "markdown",
   "source": [
    "- **VendorID**\n",
    "  Código que indica el proveedor TPEP que proporcionó el registro.\n",
    "  - 1 = Creative Mobile Technologies, LLC\n",
    "  - 2 = Curb Mobility, LLC\n",
    "  - 6 = Myle Technologies Inc\n",
    "  - 7 = Helix\n",
    "\n",
    "- **tpep_pickup_datetime**\n",
    "  Fecha y hora en que se activó el taxímetro.\n",
    "\n",
    "- **tpep_dropoff_datetime**\n",
    "  Fecha y hora en que se desactivó el taxímetro.\n",
    "\n",
    "- **passenger_count**\n",
    "  Número de pasajeros en el vehículo.\n",
    "\n",
    "- **trip_distance**\n",
    "  Distancia recorrida del viaje en millas reportada por el taxímetro.\n",
    "\n",
    "- **RatecodeID**\n",
    "  Código de tarifa final en vigor al final del viaje.\n",
    "  - 1 = Tarifa estándar\n",
    "  - 2 = JFK\n",
    "  - 3 = Newark\n",
    "  - 4 = Nassau o Westchester\n",
    "  - 5 = Tarifa negociada\n",
    "  - 6 = Viaje en grupo\n",
    "  - 99 = Nulo/desconocido\n",
    "\n",
    "- **store_and_fwd_flag**\n",
    "  Indicador de sí el registro de viaje se guardó en la memoria del vehículo antes de enviarse al proveedor (“almacenar y reenviar”), debido a que no había conexión al servidor.\n",
    "  - Y = viaje almacenado y reenviado\n",
    "  - N = viaje no almacenado y reenviado\n",
    "\n",
    "- **PULocationID**\n",
    "  Zona TLC donde se activó el taxímetro.\n",
    "\n",
    "- **DOLocationID**\n",
    "  Zona TLC donde se desactivó el taxímetro.\n",
    "\n",
    "- **payment_type**\n",
    "  Código numérico que indica cómo pagó el pasajero el viaje.\n",
    "  - 0 = Viaje Flex Fare\n",
    "  - 1 = Tarjeta de crédito\n",
    "  - 2 = Efectivo\n",
    "  - 3 = Sin cargo\n",
    "  - 4 = Disputa\n",
    "  - 5 = Desconocido\n",
    "  - 6 = Viaje anulado\n",
    "\n",
    "- **fare_amount**\n",
    "  Tarifa calculada por tiempo y distancia según el taxímetro.\n",
    "\n",
    "- **extra**\n",
    "  Extras y recargos misceláneos.\n",
    "\n",
    "- **mta_tax**\n",
    "  Impuesto activado automáticamente según la tarifa en uso.\n",
    "\n",
    "- **tip_amount**\n",
    "  Monto de la propina. Este campo se completa automáticamente para pagos con tarjeta de crédito (las propinas en efectivo no se incluyen).\n",
    "\n",
    "- **tolls_amount**\n",
    "  Total de peajes pagados en el viaje.\n",
    "\n",
    "- **improvement_surcharge**\n",
    "  Recargo por mejora aplicado al inicio del viaje (implementado en 2015).\n",
    "\n",
    "- **total_amount**\n",
    "  Importe total cobrado a los pasajeros (no incluye propinas en efectivo).\n",
    "\n",
    "- **congestion_surcharge**\n",
    "  Monto total recaudado en el viaje por el recargo de congestión del Estado de Nueva York.\n",
    "\n",
    "- **airport_fee**\n",
    "  Cargo por recogida en los aeropuertos LaGuardia y John F. Kennedy.\n",
    "\n",
    "- **cbd_congestion_fee**\n",
    "  Cargo por viaje en la Zona de Alivio de Congestión del MTA a partir del 5 de enero de 2025."
   ],
   "id": "2617498063fd05df"
  },
  {
   "metadata": {},
   "cell_type": "markdown",
   "source": "### Comprobación tamaño de los ficheros",
   "id": "e2442734bde9bf50"
  },
  {
   "metadata": {
    "ExecuteTime": {
     "end_time": "2025-10-09T13:27:55.694170Z",
     "start_time": "2025-10-09T13:27:55.677709Z"
    }
   },
   "cell_type": "code",
   "source": [
    "def fmt_size(mb: float) -> str:\n",
    "    \"\"\"\n",
    "    Format a numeric size dynamically in MB or GB.\n",
    "\n",
    "    :param mb: File size in megabytes (MB).\n",
    "    :return: Formatted size as a string, using MB if below 1024 or GB otherwise.\n",
    "    \"\"\"\n",
    "    return f\"{mb / 1024:.2f} GB\" if mb >= 1024 else f\"{mb:.2f} MB\"\n",
    "\n",
    "\n",
    "def check_files_size(\n",
    "        path: Path | str,\n",
    "        pattern: str = \"yellow_tripdata_*.parquet\",\n",
    "        count_limit: int = 3,\n",
    "        size_limit: int = 10\n",
    ") -> None:\n",
    "    \"\"\"\n",
    "    Generate a summary of the number and size of the Parquet files in a directory.\n",
    "\n",
    "    :param path: Directory path or string containing files.\n",
    "    :param pattern: Glob pattern for files. Defaults to ``\"yellow_tripdata_*.parquet\"``.\n",
    "    :param count_limit: Maximum number of file names to display. Defaults to 3.\n",
    "    :param size_limit: Maximum number of files to display with size information. Defaults to 10.\n",
    "    :return: None\n",
    "    \"\"\"\n",
    "    path = Path(path)\n",
    "    files = sorted(path.glob(pattern))\n",
    "    msg = [f\"🧾 Total number of files: {len(files)}\"]\n",
    "\n",
    "    # File listing (limited)\n",
    "    listed = [f\"📂 {f.name}\" for f in files[:count_limit]]\n",
    "    if len(files) > count_limit:\n",
    "        listed.append(\"...\")\n",
    "    msg.append(\"  \" + \"\\n  \".join(listed))\n",
    "\n",
    "    if files:\n",
    "        # Calculate sizes in MB\n",
    "        sizes = [f.stat().st_size / 1e6 for f in files]\n",
    "        total, min_s, mean_s, max_s = (\n",
    "            sum(sizes), min(sizes), sum(sizes) / len(sizes), max(sizes)\n",
    "        )\n",
    "\n",
    "        stats = (\n",
    "            f\"📏 Sizes → TOTAL: {fmt_size(total)} | Min: {fmt_size(min_s)} | \"\n",
    "            f\"Mean: {fmt_size(mean_s)} | Max: {fmt_size(max_s)}\"\n",
    "        )\n",
    "\n",
    "        # Detailed file sizes (limited)\n",
    "        sized = [\n",
    "            f\"📂 {f.name} — {fmt_size(f.stat().st_size / 1e6)}\"\n",
    "            for f in files[:size_limit]\n",
    "        ]\n",
    "        if len(files) > size_limit:\n",
    "            sized.append(\"...\")\n",
    "        msg.append(stats + \"\\n  \" + \"\\n  \".join(sized))\n",
    "\n",
    "    logging.info(\"\\n\" + \"\\n\".join(msg))"
   ],
   "id": "2e2a70505c0456de",
   "outputs": [],
   "execution_count": 15
  },
  {
   "metadata": {
    "ExecuteTime": {
     "end_time": "2025-10-09T13:27:58.939431Z",
     "start_time": "2025-10-09T13:27:58.924119Z"
    }
   },
   "cell_type": "code",
   "source": "check_files_size(PATH_RAW)",
   "id": "6537dc2314a4ef85",
   "outputs": [
    {
     "name": "stderr",
     "output_type": "stream",
     "text": [
      "INFO: \n",
      "🧾 Total number of files: 168\n",
      "  📂 yellow_tripdata_2011-01.parquet\n",
      "  📂 yellow_tripdata_2011-02.parquet\n",
      "  📂 yellow_tripdata_2011-03.parquet\n",
      "  ...\n",
      "📏 Sizes → TOTAL: 19.18 GB | Min: 4.44 MB | Mean: 116.93 MB | Max: 204.98 MB\n",
      "  📂 yellow_tripdata_2011-01.parquet — 167.18 MB\n",
      "  📂 yellow_tripdata_2011-02.parquet — 175.98 MB\n",
      "  📂 yellow_tripdata_2011-03.parquet — 199.93 MB\n",
      "  📂 yellow_tripdata_2011-04.parquet — 184.20 MB\n",
      "  📂 yellow_tripdata_2011-05.parquet — 193.43 MB\n",
      "  📂 yellow_tripdata_2011-06.parquet — 189.12 MB\n",
      "  📂 yellow_tripdata_2011-07.parquet — 184.03 MB\n",
      "  📂 yellow_tripdata_2011-08.parquet — 166.21 MB\n",
      "  📂 yellow_tripdata_2011-09.parquet — 183.49 MB\n",
      "  📂 yellow_tripdata_2011-10.parquet — 196.27 MB\n",
      "  ...\n"
     ]
    }
   ],
   "execution_count": 16
  },
  {
   "metadata": {},
   "cell_type": "markdown",
   "source": "### Comprobación Nombre de Variables",
   "id": "b5c58584c1a21589"
  },
  {
   "metadata": {},
   "cell_type": "markdown",
   "source": "Como *improvement_surcharge* se implantó en 2015 y *cbd_congestion_fee* se implantó en 2025, crearemos dos listas de variables. Una lista con las variables obligatorias y otra con las variables opcionales que no comparten todos los archivos.",
   "id": "aef355a244e151be"
  },
  {
   "metadata": {
    "ExecuteTime": {
     "end_time": "2025-10-09T13:28:03.764519Z",
     "start_time": "2025-10-09T13:28:03.759163Z"
    }
   },
   "cell_type": "code",
   "source": [
    "# Required columns (present every year since 2011)\n",
    "REQUIRED_COLS = [\n",
    "    \"VendorID\", \"tpep_pickup_datetime\", \"tpep_dropoff_datetime\",\n",
    "    \"passenger_count\", \"trip_distance\", \"RatecodeID\", \"store_and_fwd_flag\",\n",
    "    \"PULocationID\", \"DOLocationID\", \"payment_type\", \"fare_amount\",\n",
    "    \"extra\", \"mta_tax\", \"tip_amount\", \"tolls_amount\", \"total_amount\",\n",
    "    \"congestion_surcharge\", \"airport_fee\"\n",
    "]\n",
    "\n",
    "# Optional columns (added in subsequent years)\n",
    "OPTIONAL_COLS = [\n",
    "    \"improvement_surcharge\",  # since 2015\n",
    "    \"cbd_congestion_fee\"  # since 2025\n",
    "]"
   ],
   "id": "5b1a1afc6a7c613",
   "outputs": [],
   "execution_count": 17
  },
  {
   "metadata": {
    "ExecuteTime": {
     "end_time": "2025-10-09T13:28:05.228606Z",
     "start_time": "2025-10-09T13:28:05.210748Z"
    }
   },
   "cell_type": "code",
   "source": [
    "def normalize_column_names(lf: pl.LazyFrame) -> pl.LazyFrame:\n",
    "    \"\"\"\n",
    "    Normalize column names: lowercase and replace spaces with underscores.\n",
    "\n",
    "    :param lf: LazyFrame whose column names will be normalized.\n",
    "    :return: LazyFrame with all column names normalized.\n",
    "    \"\"\"\n",
    "    return lf.rename({\n",
    "        c: c.strip().lower().replace(\" \", \"_\")\n",
    "        for c in lf.collect_schema().names()\n",
    "    })\n",
    "\n",
    "\n",
    "def check_schema_variations(\n",
    "        path: Path | str,\n",
    "        required_cols: Sequence[str],\n",
    "        optional_cols: Sequence[str] | None = None,\n",
    "        pattern: str = \"yellow_tripdata_*.parquet\"\n",
    ") -> None:\n",
    "    \"\"\"\n",
    "    Inspect Parquet files in a directory, check their schema, and detect missing or inconsistent columns.\n",
    "\n",
    "    :param path: Path or string pointing to the directory containing the files.\n",
    "    :param required_cols: List of required column names.\n",
    "    :param optional_cols: Optional list of column names to check (perhaps missing in older files).\n",
    "    :param pattern: File search pattern. Defaults to ``\"yellow_tripdata_*.parquet\"``.\n",
    "    :return: None\n",
    "    \"\"\"\n",
    "    # --- Logging setup ---\n",
    "    logger = logging.getLogger(\"check_schema\")\n",
    "    if not logger.handlers:\n",
    "        handler = logging.StreamHandler()\n",
    "        handler.setFormatter(logging.Formatter(\"%(levelname)s - %(message)s\"))\n",
    "        logger.addHandler(handler)\n",
    "    logger.setLevel(logging.INFO)\n",
    "    logger.propagate = False\n",
    "\n",
    "    # --- File collection ---\n",
    "    path = Path(path)\n",
    "    files = sorted(path.glob(pattern))\n",
    "    print(f\"🔎 Found {len(files)} file(s) to inspect.\")\n",
    "\n",
    "    # --- Containers for results ---\n",
    "    required_issues, optional_issues, bad_files = [], [], []\n",
    "\n",
    "    # -- Main loop ---\n",
    "    for file in files:\n",
    "        try:\n",
    "            lf = normalize_column_names(pl.scan_parquet(file))\n",
    "            schema = [c for c in lf.collect_schema().names()]\n",
    "\n",
    "            missing_required = (\n",
    "                [c for c in required_cols if c.lower() not in schema]\n",
    "\n",
    "            )\n",
    "            missing_optional = (\n",
    "                [c for c in optional_cols if c.lower() not in schema]\n",
    "                if optional_cols else []\n",
    "            )\n",
    "\n",
    "            if missing_required:\n",
    "                required_issues.append((file, missing_required))\n",
    "            if missing_optional:\n",
    "                optional_issues.append((file, missing_optional))\n",
    "\n",
    "        except Exception as e:\n",
    "            bad_files.append((file, [f\"Error: {e}\"]))\n",
    "\n",
    "    # --- Logging summary ---\n",
    "    if not required_issues:\n",
    "        print(\"✅ All files contain the required columns.\")\n",
    "    else:\n",
    "        logger.warning(\n",
    "            f\"\\n❌ {len(required_issues)} file(s) missing required columns:\\n\"\n",
    "            + \"\\n\".join(\n",
    "                f\"  📂 {f.name}: {missing}\" for f, missing in required_issues)\n",
    "        )\n",
    "\n",
    "    if optional_cols:\n",
    "        if not optional_issues:\n",
    "            print(\n",
    "                \"✅ All files contain the optional columns (if expected).\"\n",
    "            )\n",
    "        else:\n",
    "            logger.warning(\n",
    "                (f\"\\n⚠️ {len(optional_issues)} file(s) missing optional \"\n",
    "                 \"columns:\\n\" + \"\\n\".join(\n",
    "                    f\"  📂 {f.name}: {missing}\"\n",
    "                    for f, missing in optional_issues\n",
    "                )\n",
    "                 )\n",
    "            )\n",
    "\n",
    "    if bad_files:\n",
    "        logger.error(\n",
    "            f\"\\n🚫 {len(bad_files)} file(s) failed to load:\\n\"\n",
    "            + \"\\n\".join(f\"  📂 {f.name}: {err}\" for f, err in bad_files)\n",
    "        )"
   ],
   "id": "1f3364dd6abb039b",
   "outputs": [],
   "execution_count": 18
  },
  {
   "metadata": {
    "ExecuteTime": {
     "end_time": "2025-10-09T13:28:11.723954Z",
     "start_time": "2025-10-09T13:28:11.485981Z"
    }
   },
   "cell_type": "code",
   "source": "check_schema_variations(PATH_RAW, REQUIRED_COLS, OPTIONAL_COLS)",
   "id": "d4d5a8138abd50c7",
   "outputs": [
    {
     "name": "stdout",
     "output_type": "stream",
     "text": [
      "🔎 Found 168 file(s) to inspect.\n"
     ]
    },
    {
     "name": "stderr",
     "output_type": "stream",
     "text": [
      "WARNING - \n",
      "⚠️ 168 file(s) missing optional columns:\n",
      "  📂 yellow_tripdata_2011-01.parquet: ['cbd_congestion_fee']\n",
      "  📂 yellow_tripdata_2011-02.parquet: ['cbd_congestion_fee']\n",
      "  📂 yellow_tripdata_2011-03.parquet: ['cbd_congestion_fee']\n",
      "  📂 yellow_tripdata_2011-04.parquet: ['cbd_congestion_fee']\n",
      "  📂 yellow_tripdata_2011-05.parquet: ['cbd_congestion_fee']\n",
      "  📂 yellow_tripdata_2011-06.parquet: ['cbd_congestion_fee']\n",
      "  📂 yellow_tripdata_2011-07.parquet: ['cbd_congestion_fee']\n",
      "  📂 yellow_tripdata_2011-08.parquet: ['cbd_congestion_fee']\n",
      "  📂 yellow_tripdata_2011-09.parquet: ['cbd_congestion_fee']\n",
      "  📂 yellow_tripdata_2011-10.parquet: ['cbd_congestion_fee']\n",
      "  📂 yellow_tripdata_2011-11.parquet: ['cbd_congestion_fee']\n",
      "  📂 yellow_tripdata_2011-12.parquet: ['cbd_congestion_fee']\n",
      "  📂 yellow_tripdata_2012-01.parquet: ['cbd_congestion_fee']\n",
      "  📂 yellow_tripdata_2012-02.parquet: ['cbd_congestion_fee']\n",
      "  📂 yellow_tripdata_2012-03.parquet: ['cbd_congestion_fee']\n",
      "  📂 yellow_tripdata_2012-04.parquet: ['cbd_congestion_fee']\n",
      "  📂 yellow_tripdata_2012-05.parquet: ['cbd_congestion_fee']\n",
      "  📂 yellow_tripdata_2012-06.parquet: ['cbd_congestion_fee']\n",
      "  📂 yellow_tripdata_2012-07.parquet: ['cbd_congestion_fee']\n",
      "  📂 yellow_tripdata_2012-08.parquet: ['cbd_congestion_fee']\n",
      "  📂 yellow_tripdata_2012-09.parquet: ['cbd_congestion_fee']\n",
      "  📂 yellow_tripdata_2012-10.parquet: ['cbd_congestion_fee']\n",
      "  📂 yellow_tripdata_2012-11.parquet: ['cbd_congestion_fee']\n",
      "  📂 yellow_tripdata_2012-12.parquet: ['cbd_congestion_fee']\n",
      "  📂 yellow_tripdata_2013-01.parquet: ['cbd_congestion_fee']\n",
      "  📂 yellow_tripdata_2013-02.parquet: ['cbd_congestion_fee']\n",
      "  📂 yellow_tripdata_2013-03.parquet: ['cbd_congestion_fee']\n",
      "  📂 yellow_tripdata_2013-04.parquet: ['cbd_congestion_fee']\n",
      "  📂 yellow_tripdata_2013-05.parquet: ['cbd_congestion_fee']\n",
      "  📂 yellow_tripdata_2013-06.parquet: ['cbd_congestion_fee']\n",
      "  📂 yellow_tripdata_2013-07.parquet: ['cbd_congestion_fee']\n",
      "  📂 yellow_tripdata_2013-08.parquet: ['cbd_congestion_fee']\n",
      "  📂 yellow_tripdata_2013-09.parquet: ['cbd_congestion_fee']\n",
      "  📂 yellow_tripdata_2013-10.parquet: ['cbd_congestion_fee']\n",
      "  📂 yellow_tripdata_2013-11.parquet: ['cbd_congestion_fee']\n",
      "  📂 yellow_tripdata_2013-12.parquet: ['cbd_congestion_fee']\n",
      "  📂 yellow_tripdata_2014-01.parquet: ['cbd_congestion_fee']\n",
      "  📂 yellow_tripdata_2014-02.parquet: ['cbd_congestion_fee']\n",
      "  📂 yellow_tripdata_2014-03.parquet: ['cbd_congestion_fee']\n",
      "  📂 yellow_tripdata_2014-04.parquet: ['cbd_congestion_fee']\n",
      "  📂 yellow_tripdata_2014-05.parquet: ['cbd_congestion_fee']\n",
      "  📂 yellow_tripdata_2014-06.parquet: ['cbd_congestion_fee']\n",
      "  📂 yellow_tripdata_2014-07.parquet: ['cbd_congestion_fee']\n",
      "  📂 yellow_tripdata_2014-08.parquet: ['cbd_congestion_fee']\n",
      "  📂 yellow_tripdata_2014-09.parquet: ['cbd_congestion_fee']\n",
      "  📂 yellow_tripdata_2014-10.parquet: ['cbd_congestion_fee']\n",
      "  📂 yellow_tripdata_2014-11.parquet: ['cbd_congestion_fee']\n",
      "  📂 yellow_tripdata_2014-12.parquet: ['cbd_congestion_fee']\n",
      "  📂 yellow_tripdata_2015-01.parquet: ['cbd_congestion_fee']\n",
      "  📂 yellow_tripdata_2015-02.parquet: ['cbd_congestion_fee']\n",
      "  📂 yellow_tripdata_2015-03.parquet: ['cbd_congestion_fee']\n",
      "  📂 yellow_tripdata_2015-04.parquet: ['cbd_congestion_fee']\n",
      "  📂 yellow_tripdata_2015-05.parquet: ['cbd_congestion_fee']\n",
      "  📂 yellow_tripdata_2015-06.parquet: ['cbd_congestion_fee']\n",
      "  📂 yellow_tripdata_2015-07.parquet: ['cbd_congestion_fee']\n",
      "  📂 yellow_tripdata_2015-08.parquet: ['cbd_congestion_fee']\n",
      "  📂 yellow_tripdata_2015-09.parquet: ['cbd_congestion_fee']\n",
      "  📂 yellow_tripdata_2015-10.parquet: ['cbd_congestion_fee']\n",
      "  📂 yellow_tripdata_2015-11.parquet: ['cbd_congestion_fee']\n",
      "  📂 yellow_tripdata_2015-12.parquet: ['cbd_congestion_fee']\n",
      "  📂 yellow_tripdata_2016-01.parquet: ['cbd_congestion_fee']\n",
      "  📂 yellow_tripdata_2016-02.parquet: ['cbd_congestion_fee']\n",
      "  📂 yellow_tripdata_2016-03.parquet: ['cbd_congestion_fee']\n",
      "  📂 yellow_tripdata_2016-04.parquet: ['cbd_congestion_fee']\n",
      "  📂 yellow_tripdata_2016-05.parquet: ['cbd_congestion_fee']\n",
      "  📂 yellow_tripdata_2016-06.parquet: ['cbd_congestion_fee']\n",
      "  📂 yellow_tripdata_2016-07.parquet: ['cbd_congestion_fee']\n",
      "  📂 yellow_tripdata_2016-08.parquet: ['cbd_congestion_fee']\n",
      "  📂 yellow_tripdata_2016-09.parquet: ['cbd_congestion_fee']\n",
      "  📂 yellow_tripdata_2016-10.parquet: ['cbd_congestion_fee']\n",
      "  📂 yellow_tripdata_2016-11.parquet: ['cbd_congestion_fee']\n",
      "  📂 yellow_tripdata_2016-12.parquet: ['cbd_congestion_fee']\n",
      "  📂 yellow_tripdata_2017-01.parquet: ['cbd_congestion_fee']\n",
      "  📂 yellow_tripdata_2017-02.parquet: ['cbd_congestion_fee']\n",
      "  📂 yellow_tripdata_2017-03.parquet: ['cbd_congestion_fee']\n",
      "  📂 yellow_tripdata_2017-04.parquet: ['cbd_congestion_fee']\n",
      "  📂 yellow_tripdata_2017-05.parquet: ['cbd_congestion_fee']\n",
      "  📂 yellow_tripdata_2017-06.parquet: ['cbd_congestion_fee']\n",
      "  📂 yellow_tripdata_2017-07.parquet: ['cbd_congestion_fee']\n",
      "  📂 yellow_tripdata_2017-08.parquet: ['cbd_congestion_fee']\n",
      "  📂 yellow_tripdata_2017-09.parquet: ['cbd_congestion_fee']\n",
      "  📂 yellow_tripdata_2017-10.parquet: ['cbd_congestion_fee']\n",
      "  📂 yellow_tripdata_2017-11.parquet: ['cbd_congestion_fee']\n",
      "  📂 yellow_tripdata_2017-12.parquet: ['cbd_congestion_fee']\n",
      "  📂 yellow_tripdata_2018-01.parquet: ['cbd_congestion_fee']\n",
      "  📂 yellow_tripdata_2018-02.parquet: ['cbd_congestion_fee']\n",
      "  📂 yellow_tripdata_2018-03.parquet: ['cbd_congestion_fee']\n",
      "  📂 yellow_tripdata_2018-04.parquet: ['cbd_congestion_fee']\n",
      "  📂 yellow_tripdata_2018-05.parquet: ['cbd_congestion_fee']\n",
      "  📂 yellow_tripdata_2018-06.parquet: ['cbd_congestion_fee']\n",
      "  📂 yellow_tripdata_2018-07.parquet: ['cbd_congestion_fee']\n",
      "  📂 yellow_tripdata_2018-08.parquet: ['cbd_congestion_fee']\n",
      "  📂 yellow_tripdata_2018-09.parquet: ['cbd_congestion_fee']\n",
      "  📂 yellow_tripdata_2018-10.parquet: ['cbd_congestion_fee']\n",
      "  📂 yellow_tripdata_2018-11.parquet: ['cbd_congestion_fee']\n",
      "  📂 yellow_tripdata_2018-12.parquet: ['cbd_congestion_fee']\n",
      "  📂 yellow_tripdata_2019-01.parquet: ['cbd_congestion_fee']\n",
      "  📂 yellow_tripdata_2019-02.parquet: ['cbd_congestion_fee']\n",
      "  📂 yellow_tripdata_2019-03.parquet: ['cbd_congestion_fee']\n",
      "  📂 yellow_tripdata_2019-04.parquet: ['cbd_congestion_fee']\n",
      "  📂 yellow_tripdata_2019-05.parquet: ['cbd_congestion_fee']\n",
      "  📂 yellow_tripdata_2019-06.parquet: ['cbd_congestion_fee']\n",
      "  📂 yellow_tripdata_2019-07.parquet: ['cbd_congestion_fee']\n",
      "  📂 yellow_tripdata_2019-08.parquet: ['cbd_congestion_fee']\n",
      "  📂 yellow_tripdata_2019-09.parquet: ['cbd_congestion_fee']\n",
      "  📂 yellow_tripdata_2019-10.parquet: ['cbd_congestion_fee']\n",
      "  📂 yellow_tripdata_2019-11.parquet: ['cbd_congestion_fee']\n",
      "  📂 yellow_tripdata_2019-12.parquet: ['cbd_congestion_fee']\n",
      "  📂 yellow_tripdata_2020-01.parquet: ['cbd_congestion_fee']\n",
      "  📂 yellow_tripdata_2020-02.parquet: ['cbd_congestion_fee']\n",
      "  📂 yellow_tripdata_2020-03.parquet: ['cbd_congestion_fee']\n",
      "  📂 yellow_tripdata_2020-04.parquet: ['cbd_congestion_fee']\n",
      "  📂 yellow_tripdata_2020-05.parquet: ['cbd_congestion_fee']\n",
      "  📂 yellow_tripdata_2020-06.parquet: ['cbd_congestion_fee']\n",
      "  📂 yellow_tripdata_2020-07.parquet: ['cbd_congestion_fee']\n",
      "  📂 yellow_tripdata_2020-08.parquet: ['cbd_congestion_fee']\n",
      "  📂 yellow_tripdata_2020-09.parquet: ['cbd_congestion_fee']\n",
      "  📂 yellow_tripdata_2020-10.parquet: ['cbd_congestion_fee']\n",
      "  📂 yellow_tripdata_2020-11.parquet: ['cbd_congestion_fee']\n",
      "  📂 yellow_tripdata_2020-12.parquet: ['cbd_congestion_fee']\n",
      "  📂 yellow_tripdata_2021-01.parquet: ['cbd_congestion_fee']\n",
      "  📂 yellow_tripdata_2021-02.parquet: ['cbd_congestion_fee']\n",
      "  📂 yellow_tripdata_2021-03.parquet: ['cbd_congestion_fee']\n",
      "  📂 yellow_tripdata_2021-04.parquet: ['cbd_congestion_fee']\n",
      "  📂 yellow_tripdata_2021-05.parquet: ['cbd_congestion_fee']\n",
      "  📂 yellow_tripdata_2021-06.parquet: ['cbd_congestion_fee']\n",
      "  📂 yellow_tripdata_2021-07.parquet: ['cbd_congestion_fee']\n",
      "  📂 yellow_tripdata_2021-08.parquet: ['cbd_congestion_fee']\n",
      "  📂 yellow_tripdata_2021-09.parquet: ['cbd_congestion_fee']\n",
      "  📂 yellow_tripdata_2021-10.parquet: ['cbd_congestion_fee']\n",
      "  📂 yellow_tripdata_2021-11.parquet: ['cbd_congestion_fee']\n",
      "  📂 yellow_tripdata_2021-12.parquet: ['cbd_congestion_fee']\n",
      "  📂 yellow_tripdata_2022-01.parquet: ['cbd_congestion_fee']\n",
      "  📂 yellow_tripdata_2022-02.parquet: ['cbd_congestion_fee']\n",
      "  📂 yellow_tripdata_2022-03.parquet: ['cbd_congestion_fee']\n",
      "  📂 yellow_tripdata_2022-04.parquet: ['cbd_congestion_fee']\n",
      "  📂 yellow_tripdata_2022-05.parquet: ['cbd_congestion_fee']\n",
      "  📂 yellow_tripdata_2022-06.parquet: ['cbd_congestion_fee']\n",
      "  📂 yellow_tripdata_2022-07.parquet: ['cbd_congestion_fee']\n",
      "  📂 yellow_tripdata_2022-08.parquet: ['cbd_congestion_fee']\n",
      "  📂 yellow_tripdata_2022-09.parquet: ['cbd_congestion_fee']\n",
      "  📂 yellow_tripdata_2022-10.parquet: ['cbd_congestion_fee']\n",
      "  📂 yellow_tripdata_2022-11.parquet: ['cbd_congestion_fee']\n",
      "  📂 yellow_tripdata_2022-12.parquet: ['cbd_congestion_fee']\n",
      "  📂 yellow_tripdata_2023-01.parquet: ['cbd_congestion_fee']\n",
      "  📂 yellow_tripdata_2023-02.parquet: ['cbd_congestion_fee']\n",
      "  📂 yellow_tripdata_2023-03.parquet: ['cbd_congestion_fee']\n",
      "  📂 yellow_tripdata_2023-04.parquet: ['cbd_congestion_fee']\n",
      "  📂 yellow_tripdata_2023-05.parquet: ['cbd_congestion_fee']\n",
      "  📂 yellow_tripdata_2023-06.parquet: ['cbd_congestion_fee']\n",
      "  📂 yellow_tripdata_2023-07.parquet: ['cbd_congestion_fee']\n",
      "  📂 yellow_tripdata_2023-08.parquet: ['cbd_congestion_fee']\n",
      "  📂 yellow_tripdata_2023-09.parquet: ['cbd_congestion_fee']\n",
      "  📂 yellow_tripdata_2023-10.parquet: ['cbd_congestion_fee']\n",
      "  📂 yellow_tripdata_2023-11.parquet: ['cbd_congestion_fee']\n",
      "  📂 yellow_tripdata_2023-12.parquet: ['cbd_congestion_fee']\n",
      "  📂 yellow_tripdata_2024-01.parquet: ['cbd_congestion_fee']\n",
      "  📂 yellow_tripdata_2024-02.parquet: ['cbd_congestion_fee']\n",
      "  📂 yellow_tripdata_2024-03.parquet: ['cbd_congestion_fee']\n",
      "  📂 yellow_tripdata_2024-04.parquet: ['cbd_congestion_fee']\n",
      "  📂 yellow_tripdata_2024-05.parquet: ['cbd_congestion_fee']\n",
      "  📂 yellow_tripdata_2024-06.parquet: ['cbd_congestion_fee']\n",
      "  📂 yellow_tripdata_2024-07.parquet: ['cbd_congestion_fee']\n",
      "  📂 yellow_tripdata_2024-08.parquet: ['cbd_congestion_fee']\n",
      "  📂 yellow_tripdata_2024-09.parquet: ['cbd_congestion_fee']\n",
      "  📂 yellow_tripdata_2024-10.parquet: ['cbd_congestion_fee']\n",
      "  📂 yellow_tripdata_2024-11.parquet: ['cbd_congestion_fee']\n",
      "  📂 yellow_tripdata_2024-12.parquet: ['cbd_congestion_fee']\n"
     ]
    },
    {
     "name": "stdout",
     "output_type": "stream",
     "text": [
      "✅ All files contain the required columns.\n"
     ]
    }
   ],
   "execution_count": 19
  },
  {
   "metadata": {},
   "cell_type": "markdown",
   "source": "Como *cbd_congestion_fee* se implantó en 2025 tiene sentido que no exista en ningún archivo, aunque la variable *improvement_surcharge* si aparece en todos los años, presumiblemente contendrán valores nulos.",
   "id": "e6aba83979709e1d"
  },
  {
   "metadata": {},
   "cell_type": "markdown",
   "source": "### Comprobación registros fuera de rango de fecha",
   "id": "24ff55eb562bdd4c"
  },
  {
   "metadata": {},
   "cell_type": "markdown",
   "source": "Ahora vamos a comprobar si hay registros cuya fecha de recogida no coincide con el mes y el año en el que están guardados y si el día de recogida es posterior al día de entrega.",
   "id": "4ac3e63e3a3c461a"
  },
  {
   "metadata": {
    "ExecuteTime": {
     "end_time": "2025-10-09T13:28:15.085941Z",
     "start_time": "2025-10-09T13:28:15.066635Z"
    }
   },
   "cell_type": "code",
   "source": [
    "def validate_date_ranges(\n",
    "        directory: Path | str,\n",
    "        pick_up: str = \"tpep_pickup_datetime\",\n",
    "        drop_off: str = \"tpep_dropoff_datetime\",\n",
    "        years: Iterable[int] | None = range(2011, 2025),\n",
    "        months: Iterable[int] | None = range(1, 13),\n",
    "        engine: Literal[\"auto\", \"in-memory\", \"streaming\", \"gpu\"] = \"streaming\"\n",
    ") -> tuple[dict[int, dict[int, dict[str, float]]], float]:\n",
    "    \"\"\"\n",
    "    Validate pickup and dropoff datetime ranges in monthly taxi data files.\n",
    "\n",
    "    Each file is checked to identify rows where pickup/dropoff dates fall\n",
    "    outside the expected year-month range or where pickup occurs after dropoff.\n",
    "\n",
    "    :param directory: Directory containing the monthly parquet files.\n",
    "    :param pick_up: Name of the pickup datetime column.\n",
    "    :param drop_off: Name of the dropoff datetime column.\n",
    "    :param years: Iterable of years to check.\n",
    "    :param months: Iterable of months to check.\n",
    "    :param engine: Polars execution engine (default: ``\"streaming\"``).\n",
    "    :return: Tuple containing:\n",
    "            - A dictionary of outlier counts and percentages per year-month.\n",
    "            - The maximum outlier percentage across all months.\n",
    "    \"\"\"\n",
    "    directory = Path(directory)\n",
    "    dates = get_dates(years, months)\n",
    "    progress = get_progress_bar(dates, desc=\"Checking dates\")\n",
    "\n",
    "    date_outliers = {\n",
    "        year: {m: 0 for _, m in group}\n",
    "        for year, group in groupby(dates, key=lambda x: x[0])\n",
    "    }\n",
    "    max_pct = 0.0\n",
    "\n",
    "    for year, month in progress:\n",
    "        file_path = directory / f\"yellow_tripdata_{year}-{month}.parquet\"\n",
    "        lf = pl.scan_parquet(file_path)\n",
    "\n",
    "        filters = [\n",
    "            (pl.col(pick_up).dt.month() != int(month))\n",
    "            | (pl.col(pick_up).dt.year() != int(year))\n",
    "            | ~(\n",
    "                pl.col(drop_off).dt.month().is_between(int(month),\n",
    "                                                       int(month) + 1,\n",
    "                                                       closed=\"both\")\n",
    "            )\n",
    "            | ~(\n",
    "                pl.col(drop_off).dt.year().is_between(int(year),\n",
    "                                                      int(year) + 1,\n",
    "                                                      closed=\"both\")\n",
    "            )\n",
    "            | (pl.col(pick_up) > pl.col(drop_off))\n",
    "        ]\n",
    "\n",
    "        n_outliers = (\n",
    "            lf.filter(filters).select(pl.len()).collect(engine=engine).item()\n",
    "        )\n",
    "        total_rows = lf.select(pl.len()).collect(engine=engine).item()\n",
    "        pct_outliers = (\n",
    "            round((n_outliers / total_rows * 100), 2)\n",
    "            if total_rows > 0 else 0.0\n",
    "        )\n",
    "\n",
    "        max_pct = max(max_pct, pct_outliers)\n",
    "\n",
    "        date_outliers[year][month] = {\n",
    "            \"count\": n_outliers,\n",
    "            \"pct\": pct_outliers\n",
    "        }\n",
    "\n",
    "    print(f\"The maximum percentage of outliers is: {max_pct:.2f} %\")\n",
    "\n",
    "    return date_outliers, max_pct\n",
    "\n",
    "\n",
    "def summarize_date_outliers(\n",
    "        date_outliers: dict[int, dict[int, dict[str, float]]],\n",
    "        threshold: float = 5.0,\n",
    "        limit: int = 5,\n",
    ") -> None:\n",
    "    \"\"\"\n",
    "    Display a summary table of outlier statistics by year and month.\n",
    "\n",
    "    Highlights:\n",
    "        - Total number and percentage of outliers.\n",
    "        - Month with the highest number of outliers.\n",
    "        - Month with the highest outlier percentage.\n",
    "        - Months exceeding the given percentage threshold.\n",
    "\n",
    "    :param date_outliers: Output dictionary from :func:`validate_date_ranges`.\n",
    "    :param threshold: Threshold percentage to highlight (default: ``5.0``).\n",
    "    :param limit: Maximum number of outliers per month printed.\n",
    "    :return: None\n",
    "    \"\"\"\n",
    "    # --- Prepare rows and track maxima\n",
    "    rows = []\n",
    "    max_count = (\"\", \"\", 0)\n",
    "    max_pct = (\"\", \"\", 0.0)\n",
    "\n",
    "    for year, months in sorted(date_outliers.items()):\n",
    "        for month, data in sorted(months.items()):\n",
    "            count_outliers, pct = data[\"count\"], data[\"pct\"]\n",
    "            rows.append((year, month, count_outliers, pct))\n",
    "            if count_outliers > max_count[2]:\n",
    "                max_count = (year, month, count_outliers)\n",
    "            if pct > max_pct[2]:\n",
    "                max_pct = (year, month, pct)\n",
    "\n",
    "    if not rows:\n",
    "        print(\"⚠️ No data found.\")\n",
    "        return\n",
    "\n",
    "    # --- Print formatted table\n",
    "    print(\"\\n📊 Outlier Summary by Month\")\n",
    "    print(\"-\" * 50)\n",
    "    print(f\"{'Year':<8}{'Month':<8}{'Outliers':>12}{'% Outliers':>15}\")\n",
    "    print(\"-\" * 50)\n",
    "    for i, (year, month, count_outliers, pct) in enumerate(rows):\n",
    "        if i > limit:\n",
    "            print(\"...\")\n",
    "            break\n",
    "        print(f\"{year:<8}{month:<8}{count_outliers:>12,.0f}{pct:>15.2f}\")\n",
    "    print(\"-\" * 50)\n",
    "\n",
    "    # --- Summary metrics\n",
    "    print(\"\\n🏆 Highlights\")\n",
    "    print(\n",
    "        f\"  • Highest count : {max_count[2]:,.0f} → {max_count[0]}-{max_count[1]}\")\n",
    "    print(\n",
    "        f\"  • Highest %     : {max_pct[2]:.2f}% → {max_pct[0]}-{max_pct[1]}\")\n",
    "\n",
    "    # --- Months exceeding threshold\n",
    "    high_outliers = [\n",
    "        (y, m, d[\"count\"], d[\"pct\"])\n",
    "        for y, months in date_outliers.items()\n",
    "        for m, d in months.items()\n",
    "        if d[\"pct\"] > threshold\n",
    "    ]\n",
    "\n",
    "    if high_outliers:\n",
    "        print(f\"\\n🚨 Months exceeding {threshold:.2f}% of outliers:\")\n",
    "        print(\"-\" * 50)\n",
    "        print(f\"{'Year':<8}{'Month':<8}{'Outliers':>12}{'% Outliers':>15}\")\n",
    "        print(\"-\" * 50)\n",
    "        for y, m, c, p in sorted(high_outliers):\n",
    "            print(f\"{y:<8}{m:<8}{c:>12,.0f}{p:>15.2f}\")\n",
    "        print(\"-\" * 50)\n",
    "    else:\n",
    "        print(f\"\\n✅ No months exceed {threshold:.2f}% of outliers.\")"
   ],
   "id": "ba280099bbf639fa",
   "outputs": [],
   "execution_count": 20
  },
  {
   "metadata": {
    "ExecuteTime": {
     "end_time": "2025-10-09T13:30:34.742109Z",
     "start_time": "2025-10-09T13:28:21.392679Z"
    }
   },
   "cell_type": "code",
   "source": "out_of_range_n_pct, max_month_pct = validate_date_ranges(PATH_RAW)",
   "id": "fdcdc06dbfdd0cb9",
   "outputs": [
    {
     "data": {
      "text/plain": [
       "Checking dates:   0%|          | 0/168 [00:00<?, ?it/s]"
      ],
      "application/vnd.jupyter.widget-view+json": {
       "version_major": 2,
       "version_minor": 0,
       "model_id": "1215fb75121e47869698862d2977be47"
      }
     },
     "metadata": {},
     "output_type": "display_data"
    },
    {
     "name": "stdout",
     "output_type": "stream",
     "text": [
      "The maximum percentage of outliers is: 0.47 %\n"
     ]
    }
   ],
   "execution_count": 21
  },
  {
   "metadata": {
    "ExecuteTime": {
     "end_time": "2025-10-09T13:30:34.897131Z",
     "start_time": "2025-10-09T13:30:34.892137Z"
    }
   },
   "cell_type": "code",
   "source": "summarize_date_outliers(out_of_range_n_pct, max_month_pct - 0.01)",
   "id": "b19e725332fc4a3b",
   "outputs": [
    {
     "name": "stdout",
     "output_type": "stream",
     "text": [
      "\n",
      "📊 Outlier Summary by Month\n",
      "--------------------------------------------------\n",
      "Year    Month       Outliers     % Outliers\n",
      "--------------------------------------------------\n",
      "2011    01               504           0.00\n",
      "2011    02             4,820           0.03\n",
      "2011    03             5,639           0.04\n",
      "2011    04             3,368           0.02\n",
      "2011    05             2,030           0.01\n",
      "2011    06               120           0.00\n",
      "...\n",
      "--------------------------------------------------\n",
      "\n",
      "🏆 Highlights\n",
      "  • Highest count : 6,463 → 2021-03\n",
      "  • Highest %     : 0.47% → 2021-02\n",
      "\n",
      "🚨 Months exceeding 0.46% of outliers:\n",
      "--------------------------------------------------\n",
      "Year    Month       Outliers     % Outliers\n",
      "--------------------------------------------------\n",
      "2021    02             6,389           0.47\n",
      "--------------------------------------------------\n"
     ]
    }
   ],
   "execution_count": 22
  },
  {
   "metadata": {},
   "cell_type": "markdown",
   "source": "Ningún archivo llega al 0.5% de datos con fechas incorrectas, siendo el año 2021 el que contiene los dos meses con mayor número de fechas incorrectas en un mes 6463 (marzo) y el mes con mayor porcentaje de fechas incorrectas 0.47% (febrero). Por lo que se pueden borrar sin afectar a los datos.",
   "id": "2d0b7001abf6d3fc"
  },
  {
   "metadata": {},
   "cell_type": "markdown",
   "source": "## Limpieza inicial de datos",
   "id": "f7b57c88e78640ad"
  },
  {
   "metadata": {},
   "cell_type": "markdown",
   "source": "Para facilitar el manejo de los datos con polars, vamos a unificar todos los archivos *parquet* con un esquema común por meses como en su versión original y eliminaremos los registros con fechas incorrectas. Para ello creamos el Esquema Esperado, especificando para cada variable su tipo. Estos tipos se han elegido de acuerdo a los datos aportados por la documentación.",
   "id": "f62f713615766dc8"
  },
  {
   "metadata": {
    "ExecuteTime": {
     "end_time": "2025-10-09T13:44:03.017217Z",
     "start_time": "2025-10-09T13:44:02.956963Z"
    }
   },
   "cell_type": "code",
   "source": [
    "# Expected schema\n",
    "EXPECTED_SCHEMA = {\n",
    "    \"vendorid\": pl.Categorical,\n",
    "    \"tpep_pickup_datetime\": pl.Datetime(\"ns\"),\n",
    "    \"tpep_dropoff_datetime\": pl.Datetime(\"ns\"),\n",
    "    \"passenger_count\": pl.Int16,\n",
    "    \"trip_distance\": pl.Float32,\n",
    "    \"ratecodeid\": pl.Categorical,\n",
    "    \"store_and_fwd_flag\": pl.Categorical,\n",
    "    \"pulocationid\": pl.Int32,\n",
    "    \"dolocationid\": pl.Int32,\n",
    "    \"payment_type\": pl.Categorical,\n",
    "    \"fare_amount\": pl.Float32,\n",
    "    \"extra\": pl.Float32,\n",
    "    \"mta_tax\": pl.Float32,\n",
    "    \"tip_amount\": pl.Float32,\n",
    "    \"tolls_amount\": pl.Float32,\n",
    "    \"total_amount\": pl.Float32,\n",
    "    \"congestion_surcharge\": pl.Float32,\n",
    "    \"airport_fee\": pl.Float32,\n",
    "    # Optional\n",
    "    \"improvement_surcharge\": pl.Float32,\n",
    "    \"cbd_congestion_fee\": pl.Float32,\n",
    "}\n",
    "\n",
    "\n",
    "def filter_valid_dates(\n",
    "        lf: pl.LazyFrame,\n",
    "        year: int,\n",
    "        month: int,\n",
    "        pick_up: str = \"tpep_pickup_datetime\",\n",
    "        drop_off: str = \"tpep_dropoff_datetime\",\n",
    "\n",
    ") -> pl.LazyFrame:\n",
    "    \"\"\"\n",
    "    Filter a LazyFrame to include only rows with valid pickup/dropoff dates.\n",
    "\n",
    "    :param lf: Input Polars LazyFrame.\n",
    "    :param year: Expected year for the dataset.\n",
    "    :param month: Expected month for the dataset.\n",
    "    :param pick_up: Pickup datetime column name.\n",
    "    :param drop_off: Dropoff datetime column name.\n",
    "    :return: LazyFrame containing only valid date rows.\n",
    "    \"\"\"\n",
    "    valid_filters = [\n",
    "        (pl.col(pick_up).dt.month() == month),\n",
    "        (pl.col(pick_up).dt.year() == year),\n",
    "        (\n",
    "            pl.col(drop_off).dt.month()\n",
    "            .is_between(month, month + 1, closed=\"both\")\n",
    "        ),\n",
    "        (\n",
    "            pl.col(drop_off).dt.year()\n",
    "            .is_between(year, year + 1, closed=\"both\")\n",
    "        ),\n",
    "        (pl.col(pick_up) <= pl.col(drop_off))\n",
    "    ]\n",
    "\n",
    "    return lf.filter(valid_filters)\n",
    "\n",
    "\n",
    "def load_with_schema(path: Path | str) -> pl.LazyFrame:\n",
    "    \"\"\"\n",
    "    Load a Parquet file as a LazyFrame enforcing the expected schema.\n",
    "\n",
    "    Missing columns are added with proper data types\n",
    "\n",
    "    :param path: Path to the parquet file.\n",
    "    :return: LazyFrame with normalized and enforced schema.\n",
    "    \"\"\"\n",
    "    lf = normalize_column_names(pl.scan_parquet(path))\n",
    "    actual_cols = lf.collect_schema().names()\n",
    "\n",
    "    # Add any missing columns with proper dtypes\n",
    "    for col, dtype in EXPECTED_SCHEMA.items():\n",
    "        if col not in actual_cols:\n",
    "            lf = lf.with_columns(pl.lit(None).cast(dtype).alias(col))\n",
    "\n",
    "    # Apply consistent casting\n",
    "    expressions = [\n",
    "        pl.col(c).cast(pl.Utf8).cast(dtype)\n",
    "        if dtype == pl.Categorical else pl.col(c).cast(dtype)\n",
    "        for c, dtype in EXPECTED_SCHEMA.items()\n",
    "    ]\n",
    "\n",
    "    return lf.select(expressions)\n",
    "\n",
    "\n",
    "def consolidate_parquet_monthly(\n",
    "        input_dir: Path | str,\n",
    "        output_dir: Path | str,\n",
    "        delete_originals: bool = False\n",
    ") -> None:\n",
    "    \"\"\"\n",
    "    Consolidate monthly Parquet files to enforce consistent schema and valid dates.\n",
    "\n",
    "    :param input_dir: Directory containing input Parquet files.\n",
    "    :param output_dir: Directory where processed files will be saved.\n",
    "    :param delete_originals: If ``True``, remove original files after processing.\n",
    "    :return: None\n",
    "\n",
    "    **Example:**\n",
    "\n",
    "\n",
    "    .. code-block:: python\n",
    "\n",
    "        consolidate_parquet_monthly(\n",
    "            \"../data/raw\",\n",
    "            \"../data/monthly\",\n",
    "            delete_originals=True\n",
    "        )\n",
    "    \"\"\"\n",
    "    input_dir, output_dir = Path(input_dir), Path(output_dir)\n",
    "    files = sorted(input_dir.glob(\"yellow_tripdata_*.parquet\"))\n",
    "    progress = get_progress_bar(\n",
    "        files, desc=\"Consolidating parquet files\", unit=\"files\"\n",
    "    )\n",
    "\n",
    "    for file in progress:\n",
    "        match_pattern = re.search(\n",
    "            r\"yellow_tripdata_(\\d{4})-(\\d{2})\\.parquet\", file.name\n",
    "        )\n",
    "        if not match_pattern:\n",
    "            continue\n",
    "\n",
    "        year, month = match_pattern.groups()\n",
    "\n",
    "        print(f\"\\n📂 Processing {year}-{month} → {file.name}\")\n",
    "\n",
    "        lf = load_with_schema(file)\n",
    "        lf = filter_valid_dates(lf, int(year), int(month))\n",
    "\n",
    "        out_path = (output_dir / f\"yellow_tripdata_{year}-{month}.parquet\")\n",
    "        out_path.parent.mkdir(parents=True, exist_ok=True)\n",
    "\n",
    "        lf.sink_parquet(\n",
    "            out_path,\n",
    "            compression=\"zstd\",\n",
    "            statistics=True,\n",
    "            row_group_size=200_000\n",
    "        )\n",
    "        print(f\"    ✅ Saved {out_path}\")\n",
    "\n",
    "        if delete_originals:\n",
    "            file.unlink()\n",
    "            print(f\"    🗑️ Deleted {file}\")"
   ],
   "id": "2f388117c28e6408",
   "outputs": [],
   "execution_count": 23
  },
  {
   "metadata": {
    "ExecuteTime": {
     "end_time": "2025-10-09T13:52:08.951222Z",
     "start_time": "2025-10-09T13:44:04.631582Z"
    }
   },
   "cell_type": "code",
   "source": [
    "consolidate_parquet_monthly(\n",
    "    \"../data/raw\",\n",
    "    \"../data/monthly\",\n",
    "    delete_originals=True\n",
    ")"
   ],
   "id": "c8f4b52652789dee",
   "outputs": [
    {
     "data": {
      "text/plain": [
       "Consolidating parquet files:   0%|          | 0/168 [00:00<?, ?files/s]"
      ],
      "application/vnd.jupyter.widget-view+json": {
       "version_major": 2,
       "version_minor": 0,
       "model_id": "75845a7de8f043f09ecd0c4106f7ba79"
      }
     },
     "metadata": {},
     "output_type": "display_data"
    },
    {
     "name": "stdout",
     "output_type": "stream",
     "text": [
      "\n",
      "📂 Processing 2011-01 → yellow_tripdata_2011-01.parquet\n",
      "    ✅ Saved ../data/monthly/yellow_tripdata_2011-01.parquet\n",
      "    🗑️ Deleted ../data/raw/yellow_tripdata_2011-01.parquet\n",
      "\n",
      "📂 Processing 2011-02 → yellow_tripdata_2011-02.parquet\n",
      "    ✅ Saved ../data/monthly/yellow_tripdata_2011-02.parquet\n",
      "    🗑️ Deleted ../data/raw/yellow_tripdata_2011-02.parquet\n",
      "\n",
      "📂 Processing 2011-03 → yellow_tripdata_2011-03.parquet\n",
      "    ✅ Saved ../data/monthly/yellow_tripdata_2011-03.parquet\n",
      "    🗑️ Deleted ../data/raw/yellow_tripdata_2011-03.parquet\n",
      "\n",
      "📂 Processing 2011-04 → yellow_tripdata_2011-04.parquet\n",
      "    ✅ Saved ../data/monthly/yellow_tripdata_2011-04.parquet\n",
      "    🗑️ Deleted ../data/raw/yellow_tripdata_2011-04.parquet\n",
      "\n",
      "📂 Processing 2011-05 → yellow_tripdata_2011-05.parquet\n",
      "    ✅ Saved ../data/monthly/yellow_tripdata_2011-05.parquet\n",
      "    🗑️ Deleted ../data/raw/yellow_tripdata_2011-05.parquet\n",
      "\n",
      "📂 Processing 2011-06 → yellow_tripdata_2011-06.parquet\n",
      "    ✅ Saved ../data/monthly/yellow_tripdata_2011-06.parquet\n",
      "    🗑️ Deleted ../data/raw/yellow_tripdata_2011-06.parquet\n",
      "\n",
      "📂 Processing 2011-07 → yellow_tripdata_2011-07.parquet\n",
      "    ✅ Saved ../data/monthly/yellow_tripdata_2011-07.parquet\n",
      "    🗑️ Deleted ../data/raw/yellow_tripdata_2011-07.parquet\n",
      "\n",
      "📂 Processing 2011-08 → yellow_tripdata_2011-08.parquet\n",
      "    ✅ Saved ../data/monthly/yellow_tripdata_2011-08.parquet\n",
      "    🗑️ Deleted ../data/raw/yellow_tripdata_2011-08.parquet\n",
      "\n",
      "📂 Processing 2011-09 → yellow_tripdata_2011-09.parquet\n",
      "    ✅ Saved ../data/monthly/yellow_tripdata_2011-09.parquet\n",
      "    🗑️ Deleted ../data/raw/yellow_tripdata_2011-09.parquet\n",
      "\n",
      "📂 Processing 2011-10 → yellow_tripdata_2011-10.parquet\n",
      "    ✅ Saved ../data/monthly/yellow_tripdata_2011-10.parquet\n",
      "    🗑️ Deleted ../data/raw/yellow_tripdata_2011-10.parquet\n",
      "\n",
      "📂 Processing 2011-11 → yellow_tripdata_2011-11.parquet\n",
      "    ✅ Saved ../data/monthly/yellow_tripdata_2011-11.parquet\n",
      "    🗑️ Deleted ../data/raw/yellow_tripdata_2011-11.parquet\n",
      "\n",
      "📂 Processing 2011-12 → yellow_tripdata_2011-12.parquet\n",
      "    ✅ Saved ../data/monthly/yellow_tripdata_2011-12.parquet\n",
      "    🗑️ Deleted ../data/raw/yellow_tripdata_2011-12.parquet\n",
      "\n",
      "📂 Processing 2012-01 → yellow_tripdata_2012-01.parquet\n",
      "    ✅ Saved ../data/monthly/yellow_tripdata_2012-01.parquet\n",
      "    🗑️ Deleted ../data/raw/yellow_tripdata_2012-01.parquet\n",
      "\n",
      "📂 Processing 2012-02 → yellow_tripdata_2012-02.parquet\n",
      "    ✅ Saved ../data/monthly/yellow_tripdata_2012-02.parquet\n",
      "    🗑️ Deleted ../data/raw/yellow_tripdata_2012-02.parquet\n",
      "\n",
      "📂 Processing 2012-03 → yellow_tripdata_2012-03.parquet\n",
      "    ✅ Saved ../data/monthly/yellow_tripdata_2012-03.parquet\n",
      "    🗑️ Deleted ../data/raw/yellow_tripdata_2012-03.parquet\n",
      "\n",
      "📂 Processing 2012-04 → yellow_tripdata_2012-04.parquet\n",
      "    ✅ Saved ../data/monthly/yellow_tripdata_2012-04.parquet\n",
      "    🗑️ Deleted ../data/raw/yellow_tripdata_2012-04.parquet\n",
      "\n",
      "📂 Processing 2012-05 → yellow_tripdata_2012-05.parquet\n",
      "    ✅ Saved ../data/monthly/yellow_tripdata_2012-05.parquet\n",
      "    🗑️ Deleted ../data/raw/yellow_tripdata_2012-05.parquet\n",
      "\n",
      "📂 Processing 2012-06 → yellow_tripdata_2012-06.parquet\n",
      "    ✅ Saved ../data/monthly/yellow_tripdata_2012-06.parquet\n",
      "    🗑️ Deleted ../data/raw/yellow_tripdata_2012-06.parquet\n",
      "\n",
      "📂 Processing 2012-07 → yellow_tripdata_2012-07.parquet\n",
      "    ✅ Saved ../data/monthly/yellow_tripdata_2012-07.parquet\n",
      "    🗑️ Deleted ../data/raw/yellow_tripdata_2012-07.parquet\n",
      "\n",
      "📂 Processing 2012-08 → yellow_tripdata_2012-08.parquet\n",
      "    ✅ Saved ../data/monthly/yellow_tripdata_2012-08.parquet\n",
      "    🗑️ Deleted ../data/raw/yellow_tripdata_2012-08.parquet\n",
      "\n",
      "📂 Processing 2012-09 → yellow_tripdata_2012-09.parquet\n",
      "    ✅ Saved ../data/monthly/yellow_tripdata_2012-09.parquet\n",
      "    🗑️ Deleted ../data/raw/yellow_tripdata_2012-09.parquet\n",
      "\n",
      "📂 Processing 2012-10 → yellow_tripdata_2012-10.parquet\n",
      "    ✅ Saved ../data/monthly/yellow_tripdata_2012-10.parquet\n",
      "    🗑️ Deleted ../data/raw/yellow_tripdata_2012-10.parquet\n",
      "\n",
      "📂 Processing 2012-11 → yellow_tripdata_2012-11.parquet\n",
      "    ✅ Saved ../data/monthly/yellow_tripdata_2012-11.parquet\n",
      "    🗑️ Deleted ../data/raw/yellow_tripdata_2012-11.parquet\n",
      "\n",
      "📂 Processing 2012-12 → yellow_tripdata_2012-12.parquet\n",
      "    ✅ Saved ../data/monthly/yellow_tripdata_2012-12.parquet\n",
      "    🗑️ Deleted ../data/raw/yellow_tripdata_2012-12.parquet\n",
      "\n",
      "📂 Processing 2013-01 → yellow_tripdata_2013-01.parquet\n",
      "    ✅ Saved ../data/monthly/yellow_tripdata_2013-01.parquet\n",
      "    🗑️ Deleted ../data/raw/yellow_tripdata_2013-01.parquet\n",
      "\n",
      "📂 Processing 2013-02 → yellow_tripdata_2013-02.parquet\n",
      "    ✅ Saved ../data/monthly/yellow_tripdata_2013-02.parquet\n",
      "    🗑️ Deleted ../data/raw/yellow_tripdata_2013-02.parquet\n",
      "\n",
      "📂 Processing 2013-03 → yellow_tripdata_2013-03.parquet\n",
      "    ✅ Saved ../data/monthly/yellow_tripdata_2013-03.parquet\n",
      "    🗑️ Deleted ../data/raw/yellow_tripdata_2013-03.parquet\n",
      "\n",
      "📂 Processing 2013-04 → yellow_tripdata_2013-04.parquet\n",
      "    ✅ Saved ../data/monthly/yellow_tripdata_2013-04.parquet\n",
      "    🗑️ Deleted ../data/raw/yellow_tripdata_2013-04.parquet\n",
      "\n",
      "📂 Processing 2013-05 → yellow_tripdata_2013-05.parquet\n",
      "    ✅ Saved ../data/monthly/yellow_tripdata_2013-05.parquet\n",
      "    🗑️ Deleted ../data/raw/yellow_tripdata_2013-05.parquet\n",
      "\n",
      "📂 Processing 2013-06 → yellow_tripdata_2013-06.parquet\n",
      "    ✅ Saved ../data/monthly/yellow_tripdata_2013-06.parquet\n",
      "    🗑️ Deleted ../data/raw/yellow_tripdata_2013-06.parquet\n",
      "\n",
      "📂 Processing 2013-07 → yellow_tripdata_2013-07.parquet\n",
      "    ✅ Saved ../data/monthly/yellow_tripdata_2013-07.parquet\n",
      "    🗑️ Deleted ../data/raw/yellow_tripdata_2013-07.parquet\n",
      "\n",
      "📂 Processing 2013-08 → yellow_tripdata_2013-08.parquet\n",
      "    ✅ Saved ../data/monthly/yellow_tripdata_2013-08.parquet\n",
      "    🗑️ Deleted ../data/raw/yellow_tripdata_2013-08.parquet\n",
      "\n",
      "📂 Processing 2013-09 → yellow_tripdata_2013-09.parquet\n",
      "    ✅ Saved ../data/monthly/yellow_tripdata_2013-09.parquet\n",
      "    🗑️ Deleted ../data/raw/yellow_tripdata_2013-09.parquet\n",
      "\n",
      "📂 Processing 2013-10 → yellow_tripdata_2013-10.parquet\n",
      "    ✅ Saved ../data/monthly/yellow_tripdata_2013-10.parquet\n",
      "    🗑️ Deleted ../data/raw/yellow_tripdata_2013-10.parquet\n",
      "\n",
      "📂 Processing 2013-11 → yellow_tripdata_2013-11.parquet\n",
      "    ✅ Saved ../data/monthly/yellow_tripdata_2013-11.parquet\n",
      "    🗑️ Deleted ../data/raw/yellow_tripdata_2013-11.parquet\n",
      "\n",
      "📂 Processing 2013-12 → yellow_tripdata_2013-12.parquet\n",
      "    ✅ Saved ../data/monthly/yellow_tripdata_2013-12.parquet\n",
      "    🗑️ Deleted ../data/raw/yellow_tripdata_2013-12.parquet\n",
      "\n",
      "📂 Processing 2014-01 → yellow_tripdata_2014-01.parquet\n",
      "    ✅ Saved ../data/monthly/yellow_tripdata_2014-01.parquet\n",
      "    🗑️ Deleted ../data/raw/yellow_tripdata_2014-01.parquet\n",
      "\n",
      "📂 Processing 2014-02 → yellow_tripdata_2014-02.parquet\n",
      "    ✅ Saved ../data/monthly/yellow_tripdata_2014-02.parquet\n",
      "    🗑️ Deleted ../data/raw/yellow_tripdata_2014-02.parquet\n",
      "\n",
      "📂 Processing 2014-03 → yellow_tripdata_2014-03.parquet\n",
      "    ✅ Saved ../data/monthly/yellow_tripdata_2014-03.parquet\n",
      "    🗑️ Deleted ../data/raw/yellow_tripdata_2014-03.parquet\n",
      "\n",
      "📂 Processing 2014-04 → yellow_tripdata_2014-04.parquet\n",
      "    ✅ Saved ../data/monthly/yellow_tripdata_2014-04.parquet\n",
      "    🗑️ Deleted ../data/raw/yellow_tripdata_2014-04.parquet\n",
      "\n",
      "📂 Processing 2014-05 → yellow_tripdata_2014-05.parquet\n",
      "    ✅ Saved ../data/monthly/yellow_tripdata_2014-05.parquet\n",
      "    🗑️ Deleted ../data/raw/yellow_tripdata_2014-05.parquet\n",
      "\n",
      "📂 Processing 2014-06 → yellow_tripdata_2014-06.parquet\n",
      "    ✅ Saved ../data/monthly/yellow_tripdata_2014-06.parquet\n",
      "    🗑️ Deleted ../data/raw/yellow_tripdata_2014-06.parquet\n",
      "\n",
      "📂 Processing 2014-07 → yellow_tripdata_2014-07.parquet\n",
      "    ✅ Saved ../data/monthly/yellow_tripdata_2014-07.parquet\n",
      "    🗑️ Deleted ../data/raw/yellow_tripdata_2014-07.parquet\n",
      "\n",
      "📂 Processing 2014-08 → yellow_tripdata_2014-08.parquet\n",
      "    ✅ Saved ../data/monthly/yellow_tripdata_2014-08.parquet\n",
      "    🗑️ Deleted ../data/raw/yellow_tripdata_2014-08.parquet\n",
      "\n",
      "📂 Processing 2014-09 → yellow_tripdata_2014-09.parquet\n",
      "    ✅ Saved ../data/monthly/yellow_tripdata_2014-09.parquet\n",
      "    🗑️ Deleted ../data/raw/yellow_tripdata_2014-09.parquet\n",
      "\n",
      "📂 Processing 2014-10 → yellow_tripdata_2014-10.parquet\n",
      "    ✅ Saved ../data/monthly/yellow_tripdata_2014-10.parquet\n",
      "    🗑️ Deleted ../data/raw/yellow_tripdata_2014-10.parquet\n",
      "\n",
      "📂 Processing 2014-11 → yellow_tripdata_2014-11.parquet\n",
      "    ✅ Saved ../data/monthly/yellow_tripdata_2014-11.parquet\n",
      "    🗑️ Deleted ../data/raw/yellow_tripdata_2014-11.parquet\n",
      "\n",
      "📂 Processing 2014-12 → yellow_tripdata_2014-12.parquet\n",
      "    ✅ Saved ../data/monthly/yellow_tripdata_2014-12.parquet\n",
      "    🗑️ Deleted ../data/raw/yellow_tripdata_2014-12.parquet\n",
      "\n",
      "📂 Processing 2015-01 → yellow_tripdata_2015-01.parquet\n",
      "    ✅ Saved ../data/monthly/yellow_tripdata_2015-01.parquet\n",
      "    🗑️ Deleted ../data/raw/yellow_tripdata_2015-01.parquet\n",
      "\n",
      "📂 Processing 2015-02 → yellow_tripdata_2015-02.parquet\n",
      "    ✅ Saved ../data/monthly/yellow_tripdata_2015-02.parquet\n",
      "    🗑️ Deleted ../data/raw/yellow_tripdata_2015-02.parquet\n",
      "\n",
      "📂 Processing 2015-03 → yellow_tripdata_2015-03.parquet\n",
      "    ✅ Saved ../data/monthly/yellow_tripdata_2015-03.parquet\n",
      "    🗑️ Deleted ../data/raw/yellow_tripdata_2015-03.parquet\n",
      "\n",
      "📂 Processing 2015-04 → yellow_tripdata_2015-04.parquet\n",
      "    ✅ Saved ../data/monthly/yellow_tripdata_2015-04.parquet\n",
      "    🗑️ Deleted ../data/raw/yellow_tripdata_2015-04.parquet\n",
      "\n",
      "📂 Processing 2015-05 → yellow_tripdata_2015-05.parquet\n",
      "    ✅ Saved ../data/monthly/yellow_tripdata_2015-05.parquet\n",
      "    🗑️ Deleted ../data/raw/yellow_tripdata_2015-05.parquet\n",
      "\n",
      "📂 Processing 2015-06 → yellow_tripdata_2015-06.parquet\n",
      "    ✅ Saved ../data/monthly/yellow_tripdata_2015-06.parquet\n",
      "    🗑️ Deleted ../data/raw/yellow_tripdata_2015-06.parquet\n",
      "\n",
      "📂 Processing 2015-07 → yellow_tripdata_2015-07.parquet\n",
      "    ✅ Saved ../data/monthly/yellow_tripdata_2015-07.parquet\n",
      "    🗑️ Deleted ../data/raw/yellow_tripdata_2015-07.parquet\n",
      "\n",
      "📂 Processing 2015-08 → yellow_tripdata_2015-08.parquet\n",
      "    ✅ Saved ../data/monthly/yellow_tripdata_2015-08.parquet\n",
      "    🗑️ Deleted ../data/raw/yellow_tripdata_2015-08.parquet\n",
      "\n",
      "📂 Processing 2015-09 → yellow_tripdata_2015-09.parquet\n",
      "    ✅ Saved ../data/monthly/yellow_tripdata_2015-09.parquet\n",
      "    🗑️ Deleted ../data/raw/yellow_tripdata_2015-09.parquet\n",
      "\n",
      "📂 Processing 2015-10 → yellow_tripdata_2015-10.parquet\n",
      "    ✅ Saved ../data/monthly/yellow_tripdata_2015-10.parquet\n",
      "    🗑️ Deleted ../data/raw/yellow_tripdata_2015-10.parquet\n",
      "\n",
      "📂 Processing 2015-11 → yellow_tripdata_2015-11.parquet\n",
      "    ✅ Saved ../data/monthly/yellow_tripdata_2015-11.parquet\n",
      "    🗑️ Deleted ../data/raw/yellow_tripdata_2015-11.parquet\n",
      "\n",
      "📂 Processing 2015-12 → yellow_tripdata_2015-12.parquet\n",
      "    ✅ Saved ../data/monthly/yellow_tripdata_2015-12.parquet\n",
      "    🗑️ Deleted ../data/raw/yellow_tripdata_2015-12.parquet\n",
      "\n",
      "📂 Processing 2016-01 → yellow_tripdata_2016-01.parquet\n",
      "    ✅ Saved ../data/monthly/yellow_tripdata_2016-01.parquet\n",
      "    🗑️ Deleted ../data/raw/yellow_tripdata_2016-01.parquet\n",
      "\n",
      "📂 Processing 2016-02 → yellow_tripdata_2016-02.parquet\n",
      "    ✅ Saved ../data/monthly/yellow_tripdata_2016-02.parquet\n",
      "    🗑️ Deleted ../data/raw/yellow_tripdata_2016-02.parquet\n",
      "\n",
      "📂 Processing 2016-03 → yellow_tripdata_2016-03.parquet\n",
      "    ✅ Saved ../data/monthly/yellow_tripdata_2016-03.parquet\n",
      "    🗑️ Deleted ../data/raw/yellow_tripdata_2016-03.parquet\n",
      "\n",
      "📂 Processing 2016-04 → yellow_tripdata_2016-04.parquet\n",
      "    ✅ Saved ../data/monthly/yellow_tripdata_2016-04.parquet\n",
      "    🗑️ Deleted ../data/raw/yellow_tripdata_2016-04.parquet\n",
      "\n",
      "📂 Processing 2016-05 → yellow_tripdata_2016-05.parquet\n",
      "    ✅ Saved ../data/monthly/yellow_tripdata_2016-05.parquet\n",
      "    🗑️ Deleted ../data/raw/yellow_tripdata_2016-05.parquet\n",
      "\n",
      "📂 Processing 2016-06 → yellow_tripdata_2016-06.parquet\n",
      "    ✅ Saved ../data/monthly/yellow_tripdata_2016-06.parquet\n",
      "    🗑️ Deleted ../data/raw/yellow_tripdata_2016-06.parquet\n",
      "\n",
      "📂 Processing 2016-07 → yellow_tripdata_2016-07.parquet\n",
      "    ✅ Saved ../data/monthly/yellow_tripdata_2016-07.parquet\n",
      "    🗑️ Deleted ../data/raw/yellow_tripdata_2016-07.parquet\n",
      "\n",
      "📂 Processing 2016-08 → yellow_tripdata_2016-08.parquet\n",
      "    ✅ Saved ../data/monthly/yellow_tripdata_2016-08.parquet\n",
      "    🗑️ Deleted ../data/raw/yellow_tripdata_2016-08.parquet\n",
      "\n",
      "📂 Processing 2016-09 → yellow_tripdata_2016-09.parquet\n",
      "    ✅ Saved ../data/monthly/yellow_tripdata_2016-09.parquet\n",
      "    🗑️ Deleted ../data/raw/yellow_tripdata_2016-09.parquet\n",
      "\n",
      "📂 Processing 2016-10 → yellow_tripdata_2016-10.parquet\n",
      "    ✅ Saved ../data/monthly/yellow_tripdata_2016-10.parquet\n",
      "    🗑️ Deleted ../data/raw/yellow_tripdata_2016-10.parquet\n",
      "\n",
      "📂 Processing 2016-11 → yellow_tripdata_2016-11.parquet\n",
      "    ✅ Saved ../data/monthly/yellow_tripdata_2016-11.parquet\n",
      "    🗑️ Deleted ../data/raw/yellow_tripdata_2016-11.parquet\n",
      "\n",
      "📂 Processing 2016-12 → yellow_tripdata_2016-12.parquet\n",
      "    ✅ Saved ../data/monthly/yellow_tripdata_2016-12.parquet\n",
      "    🗑️ Deleted ../data/raw/yellow_tripdata_2016-12.parquet\n",
      "\n",
      "📂 Processing 2017-01 → yellow_tripdata_2017-01.parquet\n",
      "    ✅ Saved ../data/monthly/yellow_tripdata_2017-01.parquet\n",
      "    🗑️ Deleted ../data/raw/yellow_tripdata_2017-01.parquet\n",
      "\n",
      "📂 Processing 2017-02 → yellow_tripdata_2017-02.parquet\n",
      "    ✅ Saved ../data/monthly/yellow_tripdata_2017-02.parquet\n",
      "    🗑️ Deleted ../data/raw/yellow_tripdata_2017-02.parquet\n",
      "\n",
      "📂 Processing 2017-03 → yellow_tripdata_2017-03.parquet\n",
      "    ✅ Saved ../data/monthly/yellow_tripdata_2017-03.parquet\n",
      "    🗑️ Deleted ../data/raw/yellow_tripdata_2017-03.parquet\n",
      "\n",
      "📂 Processing 2017-04 → yellow_tripdata_2017-04.parquet\n",
      "    ✅ Saved ../data/monthly/yellow_tripdata_2017-04.parquet\n",
      "    🗑️ Deleted ../data/raw/yellow_tripdata_2017-04.parquet\n",
      "\n",
      "📂 Processing 2017-05 → yellow_tripdata_2017-05.parquet\n",
      "    ✅ Saved ../data/monthly/yellow_tripdata_2017-05.parquet\n",
      "    🗑️ Deleted ../data/raw/yellow_tripdata_2017-05.parquet\n",
      "\n",
      "📂 Processing 2017-06 → yellow_tripdata_2017-06.parquet\n",
      "    ✅ Saved ../data/monthly/yellow_tripdata_2017-06.parquet\n",
      "    🗑️ Deleted ../data/raw/yellow_tripdata_2017-06.parquet\n",
      "\n",
      "📂 Processing 2017-07 → yellow_tripdata_2017-07.parquet\n",
      "    ✅ Saved ../data/monthly/yellow_tripdata_2017-07.parquet\n",
      "    🗑️ Deleted ../data/raw/yellow_tripdata_2017-07.parquet\n",
      "\n",
      "📂 Processing 2017-08 → yellow_tripdata_2017-08.parquet\n",
      "    ✅ Saved ../data/monthly/yellow_tripdata_2017-08.parquet\n",
      "    🗑️ Deleted ../data/raw/yellow_tripdata_2017-08.parquet\n",
      "\n",
      "📂 Processing 2017-09 → yellow_tripdata_2017-09.parquet\n",
      "    ✅ Saved ../data/monthly/yellow_tripdata_2017-09.parquet\n",
      "    🗑️ Deleted ../data/raw/yellow_tripdata_2017-09.parquet\n",
      "\n",
      "📂 Processing 2017-10 → yellow_tripdata_2017-10.parquet\n",
      "    ✅ Saved ../data/monthly/yellow_tripdata_2017-10.parquet\n",
      "    🗑️ Deleted ../data/raw/yellow_tripdata_2017-10.parquet\n",
      "\n",
      "📂 Processing 2017-11 → yellow_tripdata_2017-11.parquet\n",
      "    ✅ Saved ../data/monthly/yellow_tripdata_2017-11.parquet\n",
      "    🗑️ Deleted ../data/raw/yellow_tripdata_2017-11.parquet\n",
      "\n",
      "📂 Processing 2017-12 → yellow_tripdata_2017-12.parquet\n",
      "    ✅ Saved ../data/monthly/yellow_tripdata_2017-12.parquet\n",
      "    🗑️ Deleted ../data/raw/yellow_tripdata_2017-12.parquet\n",
      "\n",
      "📂 Processing 2018-01 → yellow_tripdata_2018-01.parquet\n",
      "    ✅ Saved ../data/monthly/yellow_tripdata_2018-01.parquet\n",
      "    🗑️ Deleted ../data/raw/yellow_tripdata_2018-01.parquet\n",
      "\n",
      "📂 Processing 2018-02 → yellow_tripdata_2018-02.parquet\n",
      "    ✅ Saved ../data/monthly/yellow_tripdata_2018-02.parquet\n",
      "    🗑️ Deleted ../data/raw/yellow_tripdata_2018-02.parquet\n",
      "\n",
      "📂 Processing 2018-03 → yellow_tripdata_2018-03.parquet\n",
      "    ✅ Saved ../data/monthly/yellow_tripdata_2018-03.parquet\n",
      "    🗑️ Deleted ../data/raw/yellow_tripdata_2018-03.parquet\n",
      "\n",
      "📂 Processing 2018-04 → yellow_tripdata_2018-04.parquet\n",
      "    ✅ Saved ../data/monthly/yellow_tripdata_2018-04.parquet\n",
      "    🗑️ Deleted ../data/raw/yellow_tripdata_2018-04.parquet\n",
      "\n",
      "📂 Processing 2018-05 → yellow_tripdata_2018-05.parquet\n",
      "    ✅ Saved ../data/monthly/yellow_tripdata_2018-05.parquet\n",
      "    🗑️ Deleted ../data/raw/yellow_tripdata_2018-05.parquet\n",
      "\n",
      "📂 Processing 2018-06 → yellow_tripdata_2018-06.parquet\n",
      "    ✅ Saved ../data/monthly/yellow_tripdata_2018-06.parquet\n",
      "    🗑️ Deleted ../data/raw/yellow_tripdata_2018-06.parquet\n",
      "\n",
      "📂 Processing 2018-07 → yellow_tripdata_2018-07.parquet\n",
      "    ✅ Saved ../data/monthly/yellow_tripdata_2018-07.parquet\n",
      "    🗑️ Deleted ../data/raw/yellow_tripdata_2018-07.parquet\n",
      "\n",
      "📂 Processing 2018-08 → yellow_tripdata_2018-08.parquet\n",
      "    ✅ Saved ../data/monthly/yellow_tripdata_2018-08.parquet\n",
      "    🗑️ Deleted ../data/raw/yellow_tripdata_2018-08.parquet\n",
      "\n",
      "📂 Processing 2018-09 → yellow_tripdata_2018-09.parquet\n",
      "    ✅ Saved ../data/monthly/yellow_tripdata_2018-09.parquet\n",
      "    🗑️ Deleted ../data/raw/yellow_tripdata_2018-09.parquet\n",
      "\n",
      "📂 Processing 2018-10 → yellow_tripdata_2018-10.parquet\n",
      "    ✅ Saved ../data/monthly/yellow_tripdata_2018-10.parquet\n",
      "    🗑️ Deleted ../data/raw/yellow_tripdata_2018-10.parquet\n",
      "\n",
      "📂 Processing 2018-11 → yellow_tripdata_2018-11.parquet\n",
      "    ✅ Saved ../data/monthly/yellow_tripdata_2018-11.parquet\n",
      "    🗑️ Deleted ../data/raw/yellow_tripdata_2018-11.parquet\n",
      "\n",
      "📂 Processing 2018-12 → yellow_tripdata_2018-12.parquet\n",
      "    ✅ Saved ../data/monthly/yellow_tripdata_2018-12.parquet\n",
      "    🗑️ Deleted ../data/raw/yellow_tripdata_2018-12.parquet\n",
      "\n",
      "📂 Processing 2019-01 → yellow_tripdata_2019-01.parquet\n",
      "    ✅ Saved ../data/monthly/yellow_tripdata_2019-01.parquet\n",
      "    🗑️ Deleted ../data/raw/yellow_tripdata_2019-01.parquet\n",
      "\n",
      "📂 Processing 2019-02 → yellow_tripdata_2019-02.parquet\n",
      "    ✅ Saved ../data/monthly/yellow_tripdata_2019-02.parquet\n",
      "    🗑️ Deleted ../data/raw/yellow_tripdata_2019-02.parquet\n",
      "\n",
      "📂 Processing 2019-03 → yellow_tripdata_2019-03.parquet\n",
      "    ✅ Saved ../data/monthly/yellow_tripdata_2019-03.parquet\n",
      "    🗑️ Deleted ../data/raw/yellow_tripdata_2019-03.parquet\n",
      "\n",
      "📂 Processing 2019-04 → yellow_tripdata_2019-04.parquet\n",
      "    ✅ Saved ../data/monthly/yellow_tripdata_2019-04.parquet\n",
      "    🗑️ Deleted ../data/raw/yellow_tripdata_2019-04.parquet\n",
      "\n",
      "📂 Processing 2019-05 → yellow_tripdata_2019-05.parquet\n",
      "    ✅ Saved ../data/monthly/yellow_tripdata_2019-05.parquet\n",
      "    🗑️ Deleted ../data/raw/yellow_tripdata_2019-05.parquet\n",
      "\n",
      "📂 Processing 2019-06 → yellow_tripdata_2019-06.parquet\n",
      "    ✅ Saved ../data/monthly/yellow_tripdata_2019-06.parquet\n",
      "    🗑️ Deleted ../data/raw/yellow_tripdata_2019-06.parquet\n",
      "\n",
      "📂 Processing 2019-07 → yellow_tripdata_2019-07.parquet\n",
      "    ✅ Saved ../data/monthly/yellow_tripdata_2019-07.parquet\n",
      "    🗑️ Deleted ../data/raw/yellow_tripdata_2019-07.parquet\n",
      "\n",
      "📂 Processing 2019-08 → yellow_tripdata_2019-08.parquet\n",
      "    ✅ Saved ../data/monthly/yellow_tripdata_2019-08.parquet\n",
      "    🗑️ Deleted ../data/raw/yellow_tripdata_2019-08.parquet\n",
      "\n",
      "📂 Processing 2019-09 → yellow_tripdata_2019-09.parquet\n",
      "    ✅ Saved ../data/monthly/yellow_tripdata_2019-09.parquet\n",
      "    🗑️ Deleted ../data/raw/yellow_tripdata_2019-09.parquet\n",
      "\n",
      "📂 Processing 2019-10 → yellow_tripdata_2019-10.parquet\n",
      "    ✅ Saved ../data/monthly/yellow_tripdata_2019-10.parquet\n",
      "    🗑️ Deleted ../data/raw/yellow_tripdata_2019-10.parquet\n",
      "\n",
      "📂 Processing 2019-11 → yellow_tripdata_2019-11.parquet\n",
      "    ✅ Saved ../data/monthly/yellow_tripdata_2019-11.parquet\n",
      "    🗑️ Deleted ../data/raw/yellow_tripdata_2019-11.parquet\n",
      "\n",
      "📂 Processing 2019-12 → yellow_tripdata_2019-12.parquet\n",
      "    ✅ Saved ../data/monthly/yellow_tripdata_2019-12.parquet\n",
      "    🗑️ Deleted ../data/raw/yellow_tripdata_2019-12.parquet\n",
      "\n",
      "📂 Processing 2020-01 → yellow_tripdata_2020-01.parquet\n",
      "    ✅ Saved ../data/monthly/yellow_tripdata_2020-01.parquet\n",
      "    🗑️ Deleted ../data/raw/yellow_tripdata_2020-01.parquet\n",
      "\n",
      "📂 Processing 2020-02 → yellow_tripdata_2020-02.parquet\n",
      "    ✅ Saved ../data/monthly/yellow_tripdata_2020-02.parquet\n",
      "    🗑️ Deleted ../data/raw/yellow_tripdata_2020-02.parquet\n",
      "\n",
      "📂 Processing 2020-03 → yellow_tripdata_2020-03.parquet\n",
      "    ✅ Saved ../data/monthly/yellow_tripdata_2020-03.parquet\n",
      "    🗑️ Deleted ../data/raw/yellow_tripdata_2020-03.parquet\n",
      "\n",
      "📂 Processing 2020-04 → yellow_tripdata_2020-04.parquet\n",
      "    ✅ Saved ../data/monthly/yellow_tripdata_2020-04.parquet\n",
      "    🗑️ Deleted ../data/raw/yellow_tripdata_2020-04.parquet\n",
      "\n",
      "📂 Processing 2020-05 → yellow_tripdata_2020-05.parquet\n",
      "    ✅ Saved ../data/monthly/yellow_tripdata_2020-05.parquet\n",
      "    🗑️ Deleted ../data/raw/yellow_tripdata_2020-05.parquet\n",
      "\n",
      "📂 Processing 2020-06 → yellow_tripdata_2020-06.parquet\n",
      "    ✅ Saved ../data/monthly/yellow_tripdata_2020-06.parquet\n",
      "    🗑️ Deleted ../data/raw/yellow_tripdata_2020-06.parquet\n",
      "\n",
      "📂 Processing 2020-07 → yellow_tripdata_2020-07.parquet\n",
      "    ✅ Saved ../data/monthly/yellow_tripdata_2020-07.parquet\n",
      "    🗑️ Deleted ../data/raw/yellow_tripdata_2020-07.parquet\n",
      "\n",
      "📂 Processing 2020-08 → yellow_tripdata_2020-08.parquet\n",
      "    ✅ Saved ../data/monthly/yellow_tripdata_2020-08.parquet\n",
      "    🗑️ Deleted ../data/raw/yellow_tripdata_2020-08.parquet\n",
      "\n",
      "📂 Processing 2020-09 → yellow_tripdata_2020-09.parquet\n",
      "    ✅ Saved ../data/monthly/yellow_tripdata_2020-09.parquet\n",
      "    🗑️ Deleted ../data/raw/yellow_tripdata_2020-09.parquet\n",
      "\n",
      "📂 Processing 2020-10 → yellow_tripdata_2020-10.parquet\n",
      "    ✅ Saved ../data/monthly/yellow_tripdata_2020-10.parquet\n",
      "    🗑️ Deleted ../data/raw/yellow_tripdata_2020-10.parquet\n",
      "\n",
      "📂 Processing 2020-11 → yellow_tripdata_2020-11.parquet\n",
      "    ✅ Saved ../data/monthly/yellow_tripdata_2020-11.parquet\n",
      "    🗑️ Deleted ../data/raw/yellow_tripdata_2020-11.parquet\n",
      "\n",
      "📂 Processing 2020-12 → yellow_tripdata_2020-12.parquet\n",
      "    ✅ Saved ../data/monthly/yellow_tripdata_2020-12.parquet\n",
      "    🗑️ Deleted ../data/raw/yellow_tripdata_2020-12.parquet\n",
      "\n",
      "📂 Processing 2021-01 → yellow_tripdata_2021-01.parquet\n",
      "    ✅ Saved ../data/monthly/yellow_tripdata_2021-01.parquet\n",
      "    🗑️ Deleted ../data/raw/yellow_tripdata_2021-01.parquet\n",
      "\n",
      "📂 Processing 2021-02 → yellow_tripdata_2021-02.parquet\n",
      "    ✅ Saved ../data/monthly/yellow_tripdata_2021-02.parquet\n",
      "    🗑️ Deleted ../data/raw/yellow_tripdata_2021-02.parquet\n",
      "\n",
      "📂 Processing 2021-03 → yellow_tripdata_2021-03.parquet\n",
      "    ✅ Saved ../data/monthly/yellow_tripdata_2021-03.parquet\n",
      "    🗑️ Deleted ../data/raw/yellow_tripdata_2021-03.parquet\n",
      "\n",
      "📂 Processing 2021-04 → yellow_tripdata_2021-04.parquet\n",
      "    ✅ Saved ../data/monthly/yellow_tripdata_2021-04.parquet\n",
      "    🗑️ Deleted ../data/raw/yellow_tripdata_2021-04.parquet\n",
      "\n",
      "📂 Processing 2021-05 → yellow_tripdata_2021-05.parquet\n",
      "    ✅ Saved ../data/monthly/yellow_tripdata_2021-05.parquet\n",
      "    🗑️ Deleted ../data/raw/yellow_tripdata_2021-05.parquet\n",
      "\n",
      "📂 Processing 2021-06 → yellow_tripdata_2021-06.parquet\n",
      "    ✅ Saved ../data/monthly/yellow_tripdata_2021-06.parquet\n",
      "    🗑️ Deleted ../data/raw/yellow_tripdata_2021-06.parquet\n",
      "\n",
      "📂 Processing 2021-07 → yellow_tripdata_2021-07.parquet\n",
      "    ✅ Saved ../data/monthly/yellow_tripdata_2021-07.parquet\n",
      "    🗑️ Deleted ../data/raw/yellow_tripdata_2021-07.parquet\n",
      "\n",
      "📂 Processing 2021-08 → yellow_tripdata_2021-08.parquet\n",
      "    ✅ Saved ../data/monthly/yellow_tripdata_2021-08.parquet\n",
      "    🗑️ Deleted ../data/raw/yellow_tripdata_2021-08.parquet\n",
      "\n",
      "📂 Processing 2021-09 → yellow_tripdata_2021-09.parquet\n",
      "    ✅ Saved ../data/monthly/yellow_tripdata_2021-09.parquet\n",
      "    🗑️ Deleted ../data/raw/yellow_tripdata_2021-09.parquet\n",
      "\n",
      "📂 Processing 2021-10 → yellow_tripdata_2021-10.parquet\n",
      "    ✅ Saved ../data/monthly/yellow_tripdata_2021-10.parquet\n",
      "    🗑️ Deleted ../data/raw/yellow_tripdata_2021-10.parquet\n",
      "\n",
      "📂 Processing 2021-11 → yellow_tripdata_2021-11.parquet\n",
      "    ✅ Saved ../data/monthly/yellow_tripdata_2021-11.parquet\n",
      "    🗑️ Deleted ../data/raw/yellow_tripdata_2021-11.parquet\n",
      "\n",
      "📂 Processing 2021-12 → yellow_tripdata_2021-12.parquet\n",
      "    ✅ Saved ../data/monthly/yellow_tripdata_2021-12.parquet\n",
      "    🗑️ Deleted ../data/raw/yellow_tripdata_2021-12.parquet\n",
      "\n",
      "📂 Processing 2022-01 → yellow_tripdata_2022-01.parquet\n",
      "    ✅ Saved ../data/monthly/yellow_tripdata_2022-01.parquet\n",
      "    🗑️ Deleted ../data/raw/yellow_tripdata_2022-01.parquet\n",
      "\n",
      "📂 Processing 2022-02 → yellow_tripdata_2022-02.parquet\n",
      "    ✅ Saved ../data/monthly/yellow_tripdata_2022-02.parquet\n",
      "    🗑️ Deleted ../data/raw/yellow_tripdata_2022-02.parquet\n",
      "\n",
      "📂 Processing 2022-03 → yellow_tripdata_2022-03.parquet\n",
      "    ✅ Saved ../data/monthly/yellow_tripdata_2022-03.parquet\n",
      "    🗑️ Deleted ../data/raw/yellow_tripdata_2022-03.parquet\n",
      "\n",
      "📂 Processing 2022-04 → yellow_tripdata_2022-04.parquet\n",
      "    ✅ Saved ../data/monthly/yellow_tripdata_2022-04.parquet\n",
      "    🗑️ Deleted ../data/raw/yellow_tripdata_2022-04.parquet\n",
      "\n",
      "📂 Processing 2022-05 → yellow_tripdata_2022-05.parquet\n",
      "    ✅ Saved ../data/monthly/yellow_tripdata_2022-05.parquet\n",
      "    🗑️ Deleted ../data/raw/yellow_tripdata_2022-05.parquet\n",
      "\n",
      "📂 Processing 2022-06 → yellow_tripdata_2022-06.parquet\n",
      "    ✅ Saved ../data/monthly/yellow_tripdata_2022-06.parquet\n",
      "    🗑️ Deleted ../data/raw/yellow_tripdata_2022-06.parquet\n",
      "\n",
      "📂 Processing 2022-07 → yellow_tripdata_2022-07.parquet\n",
      "    ✅ Saved ../data/monthly/yellow_tripdata_2022-07.parquet\n",
      "    🗑️ Deleted ../data/raw/yellow_tripdata_2022-07.parquet\n",
      "\n",
      "📂 Processing 2022-08 → yellow_tripdata_2022-08.parquet\n",
      "    ✅ Saved ../data/monthly/yellow_tripdata_2022-08.parquet\n",
      "    🗑️ Deleted ../data/raw/yellow_tripdata_2022-08.parquet\n",
      "\n",
      "📂 Processing 2022-09 → yellow_tripdata_2022-09.parquet\n",
      "    ✅ Saved ../data/monthly/yellow_tripdata_2022-09.parquet\n",
      "    🗑️ Deleted ../data/raw/yellow_tripdata_2022-09.parquet\n",
      "\n",
      "📂 Processing 2022-10 → yellow_tripdata_2022-10.parquet\n",
      "    ✅ Saved ../data/monthly/yellow_tripdata_2022-10.parquet\n",
      "    🗑️ Deleted ../data/raw/yellow_tripdata_2022-10.parquet\n",
      "\n",
      "📂 Processing 2022-11 → yellow_tripdata_2022-11.parquet\n",
      "    ✅ Saved ../data/monthly/yellow_tripdata_2022-11.parquet\n",
      "    🗑️ Deleted ../data/raw/yellow_tripdata_2022-11.parquet\n",
      "\n",
      "📂 Processing 2022-12 → yellow_tripdata_2022-12.parquet\n",
      "    ✅ Saved ../data/monthly/yellow_tripdata_2022-12.parquet\n",
      "    🗑️ Deleted ../data/raw/yellow_tripdata_2022-12.parquet\n",
      "\n",
      "📂 Processing 2023-01 → yellow_tripdata_2023-01.parquet\n",
      "    ✅ Saved ../data/monthly/yellow_tripdata_2023-01.parquet\n",
      "    🗑️ Deleted ../data/raw/yellow_tripdata_2023-01.parquet\n",
      "\n",
      "📂 Processing 2023-02 → yellow_tripdata_2023-02.parquet\n",
      "    ✅ Saved ../data/monthly/yellow_tripdata_2023-02.parquet\n",
      "    🗑️ Deleted ../data/raw/yellow_tripdata_2023-02.parquet\n",
      "\n",
      "📂 Processing 2023-03 → yellow_tripdata_2023-03.parquet\n",
      "    ✅ Saved ../data/monthly/yellow_tripdata_2023-03.parquet\n",
      "    🗑️ Deleted ../data/raw/yellow_tripdata_2023-03.parquet\n",
      "\n",
      "📂 Processing 2023-04 → yellow_tripdata_2023-04.parquet\n",
      "    ✅ Saved ../data/monthly/yellow_tripdata_2023-04.parquet\n",
      "    🗑️ Deleted ../data/raw/yellow_tripdata_2023-04.parquet\n",
      "\n",
      "📂 Processing 2023-05 → yellow_tripdata_2023-05.parquet\n",
      "    ✅ Saved ../data/monthly/yellow_tripdata_2023-05.parquet\n",
      "    🗑️ Deleted ../data/raw/yellow_tripdata_2023-05.parquet\n",
      "\n",
      "📂 Processing 2023-06 → yellow_tripdata_2023-06.parquet\n",
      "    ✅ Saved ../data/monthly/yellow_tripdata_2023-06.parquet\n",
      "    🗑️ Deleted ../data/raw/yellow_tripdata_2023-06.parquet\n",
      "\n",
      "📂 Processing 2023-07 → yellow_tripdata_2023-07.parquet\n",
      "    ✅ Saved ../data/monthly/yellow_tripdata_2023-07.parquet\n",
      "    🗑️ Deleted ../data/raw/yellow_tripdata_2023-07.parquet\n",
      "\n",
      "📂 Processing 2023-08 → yellow_tripdata_2023-08.parquet\n",
      "    ✅ Saved ../data/monthly/yellow_tripdata_2023-08.parquet\n",
      "    🗑️ Deleted ../data/raw/yellow_tripdata_2023-08.parquet\n",
      "\n",
      "📂 Processing 2023-09 → yellow_tripdata_2023-09.parquet\n",
      "    ✅ Saved ../data/monthly/yellow_tripdata_2023-09.parquet\n",
      "    🗑️ Deleted ../data/raw/yellow_tripdata_2023-09.parquet\n",
      "\n",
      "📂 Processing 2023-10 → yellow_tripdata_2023-10.parquet\n",
      "    ✅ Saved ../data/monthly/yellow_tripdata_2023-10.parquet\n",
      "    🗑️ Deleted ../data/raw/yellow_tripdata_2023-10.parquet\n",
      "\n",
      "📂 Processing 2023-11 → yellow_tripdata_2023-11.parquet\n",
      "    ✅ Saved ../data/monthly/yellow_tripdata_2023-11.parquet\n",
      "    🗑️ Deleted ../data/raw/yellow_tripdata_2023-11.parquet\n",
      "\n",
      "📂 Processing 2023-12 → yellow_tripdata_2023-12.parquet\n",
      "    ✅ Saved ../data/monthly/yellow_tripdata_2023-12.parquet\n",
      "    🗑️ Deleted ../data/raw/yellow_tripdata_2023-12.parquet\n",
      "\n",
      "📂 Processing 2024-01 → yellow_tripdata_2024-01.parquet\n",
      "    ✅ Saved ../data/monthly/yellow_tripdata_2024-01.parquet\n",
      "    🗑️ Deleted ../data/raw/yellow_tripdata_2024-01.parquet\n",
      "\n",
      "📂 Processing 2024-02 → yellow_tripdata_2024-02.parquet\n",
      "    ✅ Saved ../data/monthly/yellow_tripdata_2024-02.parquet\n",
      "    🗑️ Deleted ../data/raw/yellow_tripdata_2024-02.parquet\n",
      "\n",
      "📂 Processing 2024-03 → yellow_tripdata_2024-03.parquet\n",
      "    ✅ Saved ../data/monthly/yellow_tripdata_2024-03.parquet\n",
      "    🗑️ Deleted ../data/raw/yellow_tripdata_2024-03.parquet\n",
      "\n",
      "📂 Processing 2024-04 → yellow_tripdata_2024-04.parquet\n",
      "    ✅ Saved ../data/monthly/yellow_tripdata_2024-04.parquet\n",
      "    🗑️ Deleted ../data/raw/yellow_tripdata_2024-04.parquet\n",
      "\n",
      "📂 Processing 2024-05 → yellow_tripdata_2024-05.parquet\n",
      "    ✅ Saved ../data/monthly/yellow_tripdata_2024-05.parquet\n",
      "    🗑️ Deleted ../data/raw/yellow_tripdata_2024-05.parquet\n",
      "\n",
      "📂 Processing 2024-06 → yellow_tripdata_2024-06.parquet\n",
      "    ✅ Saved ../data/monthly/yellow_tripdata_2024-06.parquet\n",
      "    🗑️ Deleted ../data/raw/yellow_tripdata_2024-06.parquet\n",
      "\n",
      "📂 Processing 2024-07 → yellow_tripdata_2024-07.parquet\n",
      "    ✅ Saved ../data/monthly/yellow_tripdata_2024-07.parquet\n",
      "    🗑️ Deleted ../data/raw/yellow_tripdata_2024-07.parquet\n",
      "\n",
      "📂 Processing 2024-08 → yellow_tripdata_2024-08.parquet\n",
      "    ✅ Saved ../data/monthly/yellow_tripdata_2024-08.parquet\n",
      "    🗑️ Deleted ../data/raw/yellow_tripdata_2024-08.parquet\n",
      "\n",
      "📂 Processing 2024-09 → yellow_tripdata_2024-09.parquet\n",
      "    ✅ Saved ../data/monthly/yellow_tripdata_2024-09.parquet\n",
      "    🗑️ Deleted ../data/raw/yellow_tripdata_2024-09.parquet\n",
      "\n",
      "📂 Processing 2024-10 → yellow_tripdata_2024-10.parquet\n",
      "    ✅ Saved ../data/monthly/yellow_tripdata_2024-10.parquet\n",
      "    🗑️ Deleted ../data/raw/yellow_tripdata_2024-10.parquet\n",
      "\n",
      "📂 Processing 2024-11 → yellow_tripdata_2024-11.parquet\n",
      "    ✅ Saved ../data/monthly/yellow_tripdata_2024-11.parquet\n",
      "    🗑️ Deleted ../data/raw/yellow_tripdata_2024-11.parquet\n",
      "\n",
      "📂 Processing 2024-12 → yellow_tripdata_2024-12.parquet\n",
      "    ✅ Saved ../data/monthly/yellow_tripdata_2024-12.parquet\n",
      "    🗑️ Deleted ../data/raw/yellow_tripdata_2024-12.parquet\n"
     ]
    }
   ],
   "execution_count": 24
  },
  {
   "metadata": {
    "ExecuteTime": {
     "end_time": "2025-10-09T14:03:21.469598Z",
     "start_time": "2025-10-09T14:03:21.437683Z"
    }
   },
   "cell_type": "code",
   "source": "check_files_size(PATH_MONTHLY)",
   "id": "408c40c2ef54e9aa",
   "outputs": [
    {
     "name": "stderr",
     "output_type": "stream",
     "text": [
      "INFO: \n",
      "🧾 Total number of files: 168\n",
      "  📂 yellow_tripdata_2011-01.parquet\n",
      "  📂 yellow_tripdata_2011-02.parquet\n",
      "  📂 yellow_tripdata_2011-03.parquet\n",
      "  ...\n",
      "📏 Sizes → TOTAL: 20.23 GB | Min: 4.74 MB | Mean: 123.33 MB | Max: 212.07 MB\n",
      "  📂 yellow_tripdata_2011-01.parquet — 173.95 MB\n",
      "  📂 yellow_tripdata_2011-02.parquet — 181.75 MB\n",
      "  📂 yellow_tripdata_2011-03.parquet — 206.05 MB\n",
      "  📂 yellow_tripdata_2011-04.parquet — 189.46 MB\n",
      "  📂 yellow_tripdata_2011-05.parquet — 200.98 MB\n",
      "  📂 yellow_tripdata_2011-06.parquet — 195.70 MB\n",
      "  📂 yellow_tripdata_2011-07.parquet — 192.03 MB\n",
      "  📂 yellow_tripdata_2011-08.parquet — 174.52 MB\n",
      "  📂 yellow_tripdata_2011-09.parquet — 191.13 MB\n",
      "  📂 yellow_tripdata_2011-10.parquet — 203.25 MB\n",
      "  ...\n"
     ]
    }
   ],
   "execution_count": 25
  },
  {
   "metadata": {},
   "cell_type": "markdown",
   "source": "Como podemos ver el número de archivos se ha mantenido, pero ahora tienen un peso mayor debido a las estadisticas añadidas.",
   "id": "1aa214876aa2abe1"
  },
  {
   "metadata": {
    "ExecuteTime": {
     "end_time": "2025-10-09T14:03:27.880733Z",
     "start_time": "2025-10-09T14:03:27.474949Z"
    }
   },
   "cell_type": "code",
   "source": "check_schema_variations(PATH_MONTHLY, REQUIRED_COLS, OPTIONAL_COLS)",
   "id": "4b5c8bebbe631980",
   "outputs": [
    {
     "name": "stdout",
     "output_type": "stream",
     "text": [
      "🔎 Found 168 file(s) to inspect.\n",
      "✅ All files contain the required columns.\n",
      "✅ All files contain the optional columns (if expected).\n"
     ]
    }
   ],
   "execution_count": 26
  },
  {
   "metadata": {},
   "cell_type": "markdown",
   "source": "Ya no existen registros con fechas incorrectas.",
   "id": "89be1118d461bacf"
  },
  {
   "metadata": {
    "ExecuteTime": {
     "end_time": "2025-10-09T14:04:04.167358Z",
     "start_time": "2025-10-09T14:03:34.141546Z"
    }
   },
   "cell_type": "code",
   "source": "out_of_range_n_pct, max_month_pct = validate_date_ranges(PATH_MONTHLY)",
   "id": "d5dbb00009ae4d3e",
   "outputs": [
    {
     "data": {
      "text/plain": [
       "Checking dates:   0%|          | 0/168 [00:00<?, ?it/s]"
      ],
      "application/vnd.jupyter.widget-view+json": {
       "version_major": 2,
       "version_minor": 0,
       "model_id": "c82c661576bf4598a6dc6b9c5a3404d8"
      }
     },
     "metadata": {},
     "output_type": "display_data"
    },
    {
     "name": "stdout",
     "output_type": "stream",
     "text": [
      "The maximum percentage of outliers is: 0.00 %\n"
     ]
    }
   ],
   "execution_count": 27
  },
  {
   "metadata": {
    "ExecuteTime": {
     "end_time": "2025-10-09T14:04:04.283509Z",
     "start_time": "2025-10-09T14:04:04.272849Z"
    }
   },
   "cell_type": "code",
   "source": "summarize_date_outliers(out_of_range_n_pct, max_month_pct - 0.01)",
   "id": "7641978a59078372",
   "outputs": [
    {
     "name": "stdout",
     "output_type": "stream",
     "text": [
      "\n",
      "📊 Outlier Summary by Month\n",
      "--------------------------------------------------\n",
      "Year    Month       Outliers     % Outliers\n",
      "--------------------------------------------------\n",
      "2011    01                 0           0.00\n",
      "2011    02                 0           0.00\n",
      "2011    03                 0           0.00\n",
      "2011    04                 0           0.00\n",
      "2011    05                 0           0.00\n",
      "2011    06                 0           0.00\n",
      "...\n",
      "--------------------------------------------------\n",
      "\n",
      "🏆 Highlights\n",
      "  • Highest count : 0 → -\n",
      "  • Highest %     : 0.00% → -\n",
      "\n",
      "🚨 Months exceeding -0.01% of outliers:\n",
      "--------------------------------------------------\n",
      "Year    Month       Outliers     % Outliers\n",
      "--------------------------------------------------\n",
      "2011    01                 0           0.00\n",
      "2011    02                 0           0.00\n",
      "2011    03                 0           0.00\n",
      "2011    04                 0           0.00\n",
      "2011    05                 0           0.00\n",
      "2011    06                 0           0.00\n",
      "2011    07                 0           0.00\n",
      "2011    08                 0           0.00\n",
      "2011    09                 0           0.00\n",
      "2011    10                 0           0.00\n",
      "2011    11                 0           0.00\n",
      "2011    12                 0           0.00\n",
      "2012    01                 0           0.00\n",
      "2012    02                 0           0.00\n",
      "2012    03                 0           0.00\n",
      "2012    04                 0           0.00\n",
      "2012    05                 0           0.00\n",
      "2012    06                 0           0.00\n",
      "2012    07                 0           0.00\n",
      "2012    08                 0           0.00\n",
      "2012    09                 0           0.00\n",
      "2012    10                 0           0.00\n",
      "2012    11                 0           0.00\n",
      "2012    12                 0           0.00\n",
      "2013    01                 0           0.00\n",
      "2013    02                 0           0.00\n",
      "2013    03                 0           0.00\n",
      "2013    04                 0           0.00\n",
      "2013    05                 0           0.00\n",
      "2013    06                 0           0.00\n",
      "2013    07                 0           0.00\n",
      "2013    08                 0           0.00\n",
      "2013    09                 0           0.00\n",
      "2013    10                 0           0.00\n",
      "2013    11                 0           0.00\n",
      "2013    12                 0           0.00\n",
      "2014    01                 0           0.00\n",
      "2014    02                 0           0.00\n",
      "2014    03                 0           0.00\n",
      "2014    04                 0           0.00\n",
      "2014    05                 0           0.00\n",
      "2014    06                 0           0.00\n",
      "2014    07                 0           0.00\n",
      "2014    08                 0           0.00\n",
      "2014    09                 0           0.00\n",
      "2014    10                 0           0.00\n",
      "2014    11                 0           0.00\n",
      "2014    12                 0           0.00\n",
      "2015    01                 0           0.00\n",
      "2015    02                 0           0.00\n",
      "2015    03                 0           0.00\n",
      "2015    04                 0           0.00\n",
      "2015    05                 0           0.00\n",
      "2015    06                 0           0.00\n",
      "2015    07                 0           0.00\n",
      "2015    08                 0           0.00\n",
      "2015    09                 0           0.00\n",
      "2015    10                 0           0.00\n",
      "2015    11                 0           0.00\n",
      "2015    12                 0           0.00\n",
      "2016    01                 0           0.00\n",
      "2016    02                 0           0.00\n",
      "2016    03                 0           0.00\n",
      "2016    04                 0           0.00\n",
      "2016    05                 0           0.00\n",
      "2016    06                 0           0.00\n",
      "2016    07                 0           0.00\n",
      "2016    08                 0           0.00\n",
      "2016    09                 0           0.00\n",
      "2016    10                 0           0.00\n",
      "2016    11                 0           0.00\n",
      "2016    12                 0           0.00\n",
      "2017    01                 0           0.00\n",
      "2017    02                 0           0.00\n",
      "2017    03                 0           0.00\n",
      "2017    04                 0           0.00\n",
      "2017    05                 0           0.00\n",
      "2017    06                 0           0.00\n",
      "2017    07                 0           0.00\n",
      "2017    08                 0           0.00\n",
      "2017    09                 0           0.00\n",
      "2017    10                 0           0.00\n",
      "2017    11                 0           0.00\n",
      "2017    12                 0           0.00\n",
      "2018    01                 0           0.00\n",
      "2018    02                 0           0.00\n",
      "2018    03                 0           0.00\n",
      "2018    04                 0           0.00\n",
      "2018    05                 0           0.00\n",
      "2018    06                 0           0.00\n",
      "2018    07                 0           0.00\n",
      "2018    08                 0           0.00\n",
      "2018    09                 0           0.00\n",
      "2018    10                 0           0.00\n",
      "2018    11                 0           0.00\n",
      "2018    12                 0           0.00\n",
      "2019    01                 0           0.00\n",
      "2019    02                 0           0.00\n",
      "2019    03                 0           0.00\n",
      "2019    04                 0           0.00\n",
      "2019    05                 0           0.00\n",
      "2019    06                 0           0.00\n",
      "2019    07                 0           0.00\n",
      "2019    08                 0           0.00\n",
      "2019    09                 0           0.00\n",
      "2019    10                 0           0.00\n",
      "2019    11                 0           0.00\n",
      "2019    12                 0           0.00\n",
      "2020    01                 0           0.00\n",
      "2020    02                 0           0.00\n",
      "2020    03                 0           0.00\n",
      "2020    04                 0           0.00\n",
      "2020    05                 0           0.00\n",
      "2020    06                 0           0.00\n",
      "2020    07                 0           0.00\n",
      "2020    08                 0           0.00\n",
      "2020    09                 0           0.00\n",
      "2020    10                 0           0.00\n",
      "2020    11                 0           0.00\n",
      "2020    12                 0           0.00\n",
      "2021    01                 0           0.00\n",
      "2021    02                 0           0.00\n",
      "2021    03                 0           0.00\n",
      "2021    04                 0           0.00\n",
      "2021    05                 0           0.00\n",
      "2021    06                 0           0.00\n",
      "2021    07                 0           0.00\n",
      "2021    08                 0           0.00\n",
      "2021    09                 0           0.00\n",
      "2021    10                 0           0.00\n",
      "2021    11                 0           0.00\n",
      "2021    12                 0           0.00\n",
      "2022    01                 0           0.00\n",
      "2022    02                 0           0.00\n",
      "2022    03                 0           0.00\n",
      "2022    04                 0           0.00\n",
      "2022    05                 0           0.00\n",
      "2022    06                 0           0.00\n",
      "2022    07                 0           0.00\n",
      "2022    08                 0           0.00\n",
      "2022    09                 0           0.00\n",
      "2022    10                 0           0.00\n",
      "2022    11                 0           0.00\n",
      "2022    12                 0           0.00\n",
      "2023    01                 0           0.00\n",
      "2023    02                 0           0.00\n",
      "2023    03                 0           0.00\n",
      "2023    04                 0           0.00\n",
      "2023    05                 0           0.00\n",
      "2023    06                 0           0.00\n",
      "2023    07                 0           0.00\n",
      "2023    08                 0           0.00\n",
      "2023    09                 0           0.00\n",
      "2023    10                 0           0.00\n",
      "2023    11                 0           0.00\n",
      "2023    12                 0           0.00\n",
      "2024    01                 0           0.00\n",
      "2024    02                 0           0.00\n",
      "2024    03                 0           0.00\n",
      "2024    04                 0           0.00\n",
      "2024    05                 0           0.00\n",
      "2024    06                 0           0.00\n",
      "2024    07                 0           0.00\n",
      "2024    08                 0           0.00\n",
      "2024    09                 0           0.00\n",
      "2024    10                 0           0.00\n",
      "2024    11                 0           0.00\n",
      "2024    12                 0           0.00\n",
      "--------------------------------------------------\n"
     ]
    }
   ],
   "execution_count": 28
  },
  {
   "metadata": {},
   "cell_type": "markdown",
   "source": "Ya no existen meses fuera del rango de fechas",
   "id": "320e38427dc2906f"
  },
  {
   "metadata": {},
   "cell_type": "markdown",
   "source": "## Examen inicial del EDA",
   "id": "7e4c5acd52e24717"
  },
  {
   "metadata": {
    "ExecuteTime": {
     "end_time": "2025-10-10T15:55:26.996743Z",
     "start_time": "2025-10-10T15:55:26.963981Z"
    }
   },
   "cell_type": "code",
   "source": [
    "# Scan parquet files lazily\n",
    "lf_yellow = pl.scan_parquet(PATH_MONTHLY / 'yellow_tripdata*.parquet')\n",
    "lf_schema = lf_yellow.collect_schema()"
   ],
   "id": "5bbf3ee660a834f0",
   "outputs": [],
   "execution_count": 4
  },
  {
   "metadata": {
    "ExecuteTime": {
     "end_time": "2025-10-10T15:55:29.007919Z",
     "start_time": "2025-10-10T15:55:28.750144Z"
    }
   },
   "cell_type": "code",
   "source": [
    "# --- Summary ---\n",
    "print(\"📊 DataFrame information:\")\n",
    "n_rows = lf_yellow.select(pl.len()).collect(engine=\"streaming\").item()\n",
    "print(f'Total number of rows: {n_rows}')\n",
    "\n",
    "# --- Dtype summary ---\n",
    "dtype_counts = Counter(lf_schema.values())\n",
    "print(\"Unique dtypes:\")\n",
    "for dtype_name, count in dtype_counts.items():\n",
    "    print(f\"  {dtype_name}: {count}\")\n",
    "\n",
    "# Schema summary ---\n",
    "print(f'Data columns (total {len(lf_schema)} columns):')\n",
    "\n",
    "# Columns and Types\n",
    "schema_df = pl.DataFrame({\n",
    "    \"Column\": list(lf_schema.keys()),\n",
    "    \"Type\": [str(v) for v in lf_schema.values()]\n",
    "})\n",
    "\n",
    "schema_df"
   ],
   "id": "8bc96c9875b82ea7",
   "outputs": [
    {
     "name": "stdout",
     "output_type": "stream",
     "text": [
      "📊 DataFrame information:\n",
      "Total number of rows: 1438178835\n",
      "Unique dtypes:\n",
      "  Categorical(ordering='physical'): 4\n",
      "  Datetime(time_unit='ns', time_zone=None): 2\n",
      "  Int16: 1\n",
      "  Float32: 11\n",
      "  Int32: 2\n",
      "Data columns (total 20 columns):\n"
     ]
    },
    {
     "data": {
      "text/plain": [
       "shape: (20, 2)\n",
       "┌───────────────────────┬─────────────────────────────────┐\n",
       "│ Column                ┆ Type                            │\n",
       "│ ---                   ┆ ---                             │\n",
       "│ str                   ┆ str                             │\n",
       "╞═══════════════════════╪═════════════════════════════════╡\n",
       "│ vendorid              ┆ Categorical(ordering='physical… │\n",
       "│ tpep_pickup_datetime  ┆ Datetime(time_unit='ns', time_… │\n",
       "│ tpep_dropoff_datetime ┆ Datetime(time_unit='ns', time_… │\n",
       "│ passenger_count       ┆ Int16                           │\n",
       "│ trip_distance         ┆ Float32                         │\n",
       "│ …                     ┆ …                               │\n",
       "│ total_amount          ┆ Float32                         │\n",
       "│ congestion_surcharge  ┆ Float32                         │\n",
       "│ airport_fee           ┆ Float32                         │\n",
       "│ improvement_surcharge ┆ Float32                         │\n",
       "│ cbd_congestion_fee    ┆ Float32                         │\n",
       "└───────────────────────┴─────────────────────────────────┘"
      ],
      "text/html": [
       "<div><style>\n",
       ".dataframe > thead > tr,\n",
       ".dataframe > tbody > tr {\n",
       "  text-align: right;\n",
       "  white-space: pre-wrap;\n",
       "}\n",
       "</style>\n",
       "<small>shape: (20, 2)</small><table border=\"1\" class=\"dataframe\"><thead><tr><th>Column</th><th>Type</th></tr><tr><td>str</td><td>str</td></tr></thead><tbody><tr><td>&quot;vendorid&quot;</td><td>&quot;Categorical(ordering=&#x27;physical…</td></tr><tr><td>&quot;tpep_pickup_datetime&quot;</td><td>&quot;Datetime(time_unit=&#x27;ns&#x27;, time_…</td></tr><tr><td>&quot;tpep_dropoff_datetime&quot;</td><td>&quot;Datetime(time_unit=&#x27;ns&#x27;, time_…</td></tr><tr><td>&quot;passenger_count&quot;</td><td>&quot;Int16&quot;</td></tr><tr><td>&quot;trip_distance&quot;</td><td>&quot;Float32&quot;</td></tr><tr><td>&hellip;</td><td>&hellip;</td></tr><tr><td>&quot;total_amount&quot;</td><td>&quot;Float32&quot;</td></tr><tr><td>&quot;congestion_surcharge&quot;</td><td>&quot;Float32&quot;</td></tr><tr><td>&quot;airport_fee&quot;</td><td>&quot;Float32&quot;</td></tr><tr><td>&quot;improvement_surcharge&quot;</td><td>&quot;Float32&quot;</td></tr><tr><td>&quot;cbd_congestion_fee&quot;</td><td>&quot;Float32&quot;</td></tr></tbody></table></div>"
      ]
     },
     "execution_count": 5,
     "metadata": {},
     "output_type": "execute_result"
    }
   ],
   "execution_count": 5
  },
  {
   "metadata": {},
   "cell_type": "markdown",
   "source": "Vemos que hay miles de millones de datos, por lo que para poder hacer un examen inicial, agruparemos los datos por años.",
   "id": "55ed512fd1e705af"
  },
  {
   "metadata": {
    "ExecuteTime": {
     "end_time": "2025-10-10T16:44:16.359891Z",
     "start_time": "2025-10-10T16:44:16.244803Z"
    }
   },
   "cell_type": "code",
   "source": [
    "NUMERIC_TYPES = {\n",
    "    pl.Int8, pl.Int16, pl.Int32, pl.Int64,\n",
    "    pl.UInt8, pl.UInt16, pl.UInt32, pl.UInt64,\n",
    "    pl.Float32, pl.Float64\n",
    "}\n",
    "\n",
    "\n",
    "def is_numeric_dtype(dtype: pl.DataType) -> bool:\n",
    "    \"\"\"\n",
    "    Check if a Polars data type is numeric.\n",
    "\n",
    "    :param dtype: Polars DataType to check.\n",
    "    :return: True if dtype is numeric, False otherwise.\n",
    "    \"\"\"\n",
    "    return type(dtype) in NUMERIC_TYPES\n",
    "\n",
    "\n",
    "def is_datetime_dtype(dtype: pl.DataType) -> bool:\n",
    "    \"\"\"\n",
    "    Check if a Polars data type is datetime-like.\n",
    "\n",
    "    :param dtype: Polars DataType to check.\n",
    "    :return: True if dtype is a datetime, False otherwise.\n",
    "    \"\"\"\n",
    "    # cover Datetime(\"ns\"), Datetime(\"us\"), ...\n",
    "    return str(dtype).startswith(\"Datetime\")\n",
    "\n",
    "\n",
    "def is_textual_dtype(dtype: pl.DataType) -> bool:\n",
    "    \"\"\"\n",
    "    Check if a Polars data type is textual (Utf8, Categorical, or Boolean).\n",
    "\n",
    "    :param dtype: Polars DataType to check.\n",
    "    :return: True if dtype is textual, False otherwise.\n",
    "    \"\"\"\n",
    "    return str(dtype).startswith((\"Utf8\", \"Categorical\", \"Boolean\"))\n",
    "\n",
    "\n",
    "def count_categories(\n",
    "        lf: pl.LazyFrame,\n",
    "        column: str,\n",
    "        engine: Literal[\"auto\", \"in-memory\", \"streaming\", \"gpu\"] = \"streaming\"\n",
    ") -> list[tuple[Any, int, float]]:\n",
    "    \"\"\"\n",
    "    Count the number and percentage of occurrences for each category\n",
    "    in a specified column of a Polars LazyFrame.\n",
    "\n",
    "    :param lf: Polars LazyFrame to analyze.\n",
    "    :param column: Column name whose categorical values will be counted.\n",
    "    :param engine: Execution engine to use when collecting results\n",
    "                   (default: ``\"streaming\"``).\n",
    "    :return: A list of tuples (category, count, percentage).\n",
    "    \"\"\"\n",
    "    df = (\n",
    "        lf.group_by(column)\n",
    "        .agg(pl.len().alias(\"count\"))\n",
    "        .with_columns(\n",
    "            (pl.col(\"count\") / pl.sum(\"count\") * 100).alias(\"pct\")\n",
    "        )\n",
    "        .sort(\"count\", descending=True)\n",
    "        .collect(engine=engine)\n",
    "    )\n",
    "    if df.is_empty():\n",
    "        return []\n",
    "    return list(zip(df[column], df[\"count\"], df[\"pct\"]))\n",
    "\n",
    "\n",
    "def collect_item(\n",
    "        lf: pl.LazyFrame,\n",
    "        exprs: list[pl.Expr],\n",
    "        engine: Literal[\"auto\", \"in-memory\", \"streaming\", \"gpu\"] = \"streaming\"\n",
    ") -> dict[str, Any]:\n",
    "    \"\"\"\n",
    "    Execute multiple Polars expressions on a LazyFrame and return their results.\n",
    "\n",
    "    :param lf: Polars LazyFrame on which to execute expressions.\n",
    "    :param exprs: List of Polars expressions (e.g., aggregations) to compute.\n",
    "    :param engine: Execution engine to use when collecting results.\n",
    "    :return: A dictionary mapping expression output names to their computed values.\n",
    "    \"\"\"\n",
    "    df = lf.select(exprs).collect(engine=engine)\n",
    "    return {c: df[c][0] for c in df.columns}\n",
    "\n",
    "\n",
    "def quantiles_for_column(\n",
    "        lf: pl.LazyFrame,\n",
    "        col: str,\n",
    ") -> dict[str, Any]:\n",
    "    \"\"\"\n",
    "    Calculate the 25th, 50th, and 75th quantiles for a column in a LazyFrame.\n",
    "\n",
    "    :param lf: Polars LazyFrame on which to compute quantiles.\n",
    "    :param col: Name of the column to calculate quantiles for.\n",
    "    :return: A dictionary mapping quantile labels (``\"25%\"``, ``\"50%\"``, ``\"75%\"``) to their values.\n",
    "    \"\"\"\n",
    "    dtype = lf.collect_schema()[col]\n",
    "\n",
    "    if dtype == pl.Datetime(\"ns\"):\n",
    "        exprs = [\n",
    "            pl.col(col)\n",
    "            .cast(pl.Int64)\n",
    "            .quantile(q)\n",
    "            .cast(pl.Datetime(\"ns\"))\n",
    "            .alias(name)\n",
    "            for name, q in zip([\"25%\", \"50%\", \"75%\"], (0.25, 0.5, 0.75))\n",
    "        ]\n",
    "        res = collect_item(lf, exprs)\n",
    "        return {k: v.strftime(\"%Y-%m-%d %H:%M:%S\") for k, v in res.items()}\n",
    "\n",
    "    q_exprs = {\n",
    "        \"25%\": pl.col(col).quantile(0.25).alias(\"25%\"),\n",
    "        \"50%\": pl.col(col).quantile(0.50).alias(\"50%\"),\n",
    "        \"75%\": pl.col(col).quantile(0.75).alias(\"75%\"),\n",
    "    }\n",
    "    return {k: collect_item(lf, [expr])[k] for k, expr in q_exprs.items()}\n",
    "\n",
    "\n",
    "def get_stats(\n",
    "        directory: Path | str = \"../data/monthly\",\n",
    "        years: Iterable[int] = range(2011, 2025),\n",
    "        lf: pl.LazyFrame | None = None\n",
    ") -> dict[int, dict[str, list[Any]]]:\n",
    "    \"\"\"\n",
    "    Compute descriptive statistics for NYC taxi data by year.\n",
    "\n",
    "    :param directory: Directory to read data from.\n",
    "    :param years: Iterable of years to process (default: 2011–2024).\n",
    "    :param lf: If you want to read from a LazyFrame, use this argument.\n",
    "    :return: Nested dictionary with per-year statistics for each column.\n",
    "    \"\"\"\n",
    "    if lf is None:\n",
    "        directory = Path(directory)\n",
    "\n",
    "    stat_keys = [\n",
    "        \"column\", \"dtype\", \"count\", \"null_count\", \"mean\", \"std\",\n",
    "        \"min\", \"25%\", \"50%\", \"75%\", \"max\", \"n_values\", \"cat_count\"\n",
    "    ]\n",
    "    stats_dict = {year: {k: [] for k in stat_keys} for year in years}\n",
    "\n",
    "    years_progress = get_progress_bar(\n",
    "        years,\n",
    "        desc=\"📆 Recording annual statistics\",\n",
    "        unit=\"year\",\n",
    "        position=0\n",
    "    )\n",
    "\n",
    "    for year in years_progress:\n",
    "        if lf is None:\n",
    "            lf_p = pl.scan_parquet(\n",
    "                directory / f'yellow_tripdata_{year}*.parquet'\n",
    "            )\n",
    "        else:\n",
    "            lf_p = lf.filter(pl.col('tpep_pickup_datetime').dt.year() == year)\n",
    "        schema = lf_p.collect_schema()\n",
    "\n",
    "        col_progress = get_progress_bar(\n",
    "            schema.items(),\n",
    "            desc=f\"  📊 Processing columns for {year}\",\n",
    "            unit=\"col\",\n",
    "            position=1\n",
    "        )\n",
    "\n",
    "        for col, dtype in col_progress:\n",
    "            # always ask 'count', 'null_count' and 'n_unique'\n",
    "            exprs = [\n",
    "                pl.col(col).len().alias(\"count\"),\n",
    "                pl.col(col).null_count().alias(\"null_count\"),\n",
    "                pl.col(col).n_unique().alias(\"n_unique\"),\n",
    "            ]\n",
    "\n",
    "            if is_numeric_dtype(dtype):\n",
    "                quant_exprs = [\n",
    "                    pl.col(col)\n",
    "                    .quantile(q)\n",
    "                    .alias(f\"{int(q * 100)}%\") for q in (0.25, 0.5, 0.75)\n",
    "                ]\n",
    "                exprs += [\n",
    "                    pl.col(col).mean().alias(\"mean\"),\n",
    "                    pl.col(col).std().alias(\"std\"),\n",
    "                    pl.col(col).min().alias(\"min\"),\n",
    "                    pl.col(col).max().alias(\"max\"),\n",
    "                    *quant_exprs\n",
    "                ]\n",
    "            elif is_datetime_dtype(dtype):\n",
    "                quant_exprs = [\n",
    "                    pl.col(col)\n",
    "                    .cast(pl.Int64)\n",
    "                    .quantile(q)\n",
    "                    .cast(pl.Datetime(\"ns\"))\n",
    "                    .alias(f\"{int(q * 100)}%\") for q in (0.25, 0.5, 0.75)\n",
    "                ]\n",
    "                exprs += [\n",
    "                    pl.col(col).min().alias(\"min\"),\n",
    "                    pl.col(col).max().alias(\"max\"),\n",
    "                    *quant_exprs\n",
    "                ]\n",
    "\n",
    "            res = collect_item(lf_p, exprs)\n",
    "\n",
    "            cat_count = None\n",
    "            if not is_numeric_dtype(dtype) and not is_datetime_dtype(\n",
    "                    dtype):\n",
    "                cat_count = count_categories(lf_p, col)\n",
    "\n",
    "            def fmt(variable: Any) -> Any:\n",
    "                return (variable.strftime(\"%Y-%m-%d %H:%M:%S\")\n",
    "                        if hasattr(variable, \"strftime\") else variable)\n",
    "\n",
    "            cat_fmt = (\n",
    "                [f\"{c}: {cnt} ({pct:.2f}%)\" for c, cnt, pct in cat_count]\n",
    "                if cat_count else None\n",
    "            )\n",
    "\n",
    "            stats = {\n",
    "                \"column\": col,\n",
    "                \"dtype\": dtype,\n",
    "                \"count\": res.get(\"count\"),\n",
    "                \"null_count\": res.get(\"null_count\"),\n",
    "                \"mean\": res.get(\"mean\"),\n",
    "                \"std\": res.get(\"std\"),\n",
    "                \"25%\": fmt(res.get(\"25%\")),\n",
    "                \"50%\": fmt(res.get(\"50%\")),\n",
    "                \"75%\": fmt(res.get(\"75%\")),\n",
    "                \"min\": fmt(res.get(\"min\")),\n",
    "                \"max\": fmt(res.get(\"max\")),\n",
    "                \"n_values\": int(res.get(\"n_unique\") or 0),\n",
    "                \"cat_count\": cat_fmt\n",
    "            }\n",
    "\n",
    "            for k, v in stats.items():\n",
    "                stats_dict[year][k].append(v)\n",
    "\n",
    "    print(f'✅ Statistics for every year recorded')\n",
    "\n",
    "    return stats_dict"
   ],
   "id": "ddd7b42a03025a06",
   "outputs": [],
   "execution_count": 59
  },
  {
   "metadata": {
    "ExecuteTime": {
     "end_time": "2025-10-10T16:24:45.495053Z",
     "start_time": "2025-10-10T16:17:40.607427Z"
    }
   },
   "cell_type": "code",
   "source": "stats_data = get_stats()",
   "id": "abff621efccddc9d",
   "outputs": [
    {
     "data": {
      "text/plain": [
       "📆 Recording annual statistics:   0%|          | 0/14 [00:00<?, ?year/s]"
      ],
      "application/vnd.jupyter.widget-view+json": {
       "version_major": 2,
       "version_minor": 0,
       "model_id": "221008467d414b50bd448587c61d7099"
      }
     },
     "metadata": {},
     "output_type": "display_data"
    },
    {
     "data": {
      "text/plain": [
       "  📊 Processing columns for 2011:   0%|          | 0/20 [00:00<?, ?col/s]"
      ],
      "application/vnd.jupyter.widget-view+json": {
       "version_major": 2,
       "version_minor": 0,
       "model_id": "d713b8c6e1c94757b048f1cb58d66f2a"
      }
     },
     "metadata": {},
     "output_type": "display_data"
    },
    {
     "data": {
      "text/plain": [
       "  📊 Processing columns for 2012:   0%|          | 0/20 [00:00<?, ?col/s]"
      ],
      "application/vnd.jupyter.widget-view+json": {
       "version_major": 2,
       "version_minor": 0,
       "model_id": "d02e63e7d44749dd8ac35067f775bb7c"
      }
     },
     "metadata": {},
     "output_type": "display_data"
    },
    {
     "data": {
      "text/plain": [
       "  📊 Processing columns for 2013:   0%|          | 0/20 [00:00<?, ?col/s]"
      ],
      "application/vnd.jupyter.widget-view+json": {
       "version_major": 2,
       "version_minor": 0,
       "model_id": "9d7ec998008d4d1197e64fcf2ed53ce9"
      }
     },
     "metadata": {},
     "output_type": "display_data"
    },
    {
     "data": {
      "text/plain": [
       "  📊 Processing columns for 2014:   0%|          | 0/20 [00:00<?, ?col/s]"
      ],
      "application/vnd.jupyter.widget-view+json": {
       "version_major": 2,
       "version_minor": 0,
       "model_id": "1157cbd110984688a57d2f15c16481db"
      }
     },
     "metadata": {},
     "output_type": "display_data"
    },
    {
     "data": {
      "text/plain": [
       "  📊 Processing columns for 2015:   0%|          | 0/20 [00:00<?, ?col/s]"
      ],
      "application/vnd.jupyter.widget-view+json": {
       "version_major": 2,
       "version_minor": 0,
       "model_id": "547cc84b203848669614704cc06b8391"
      }
     },
     "metadata": {},
     "output_type": "display_data"
    },
    {
     "data": {
      "text/plain": [
       "  📊 Processing columns for 2016:   0%|          | 0/20 [00:00<?, ?col/s]"
      ],
      "application/vnd.jupyter.widget-view+json": {
       "version_major": 2,
       "version_minor": 0,
       "model_id": "bd3f4cdf640e44e483d3e939658e789c"
      }
     },
     "metadata": {},
     "output_type": "display_data"
    },
    {
     "data": {
      "text/plain": [
       "  📊 Processing columns for 2017:   0%|          | 0/20 [00:00<?, ?col/s]"
      ],
      "application/vnd.jupyter.widget-view+json": {
       "version_major": 2,
       "version_minor": 0,
       "model_id": "d81f49340f2c4055b32a112665ea3e5b"
      }
     },
     "metadata": {},
     "output_type": "display_data"
    },
    {
     "data": {
      "text/plain": [
       "  📊 Processing columns for 2018:   0%|          | 0/20 [00:00<?, ?col/s]"
      ],
      "application/vnd.jupyter.widget-view+json": {
       "version_major": 2,
       "version_minor": 0,
       "model_id": "a14b917083754471bf1158cce2391813"
      }
     },
     "metadata": {},
     "output_type": "display_data"
    },
    {
     "data": {
      "text/plain": [
       "  📊 Processing columns for 2019:   0%|          | 0/20 [00:00<?, ?col/s]"
      ],
      "application/vnd.jupyter.widget-view+json": {
       "version_major": 2,
       "version_minor": 0,
       "model_id": "8dddc86a999749398eb7b612382e2713"
      }
     },
     "metadata": {},
     "output_type": "display_data"
    },
    {
     "data": {
      "text/plain": [
       "  📊 Processing columns for 2020:   0%|          | 0/20 [00:00<?, ?col/s]"
      ],
      "application/vnd.jupyter.widget-view+json": {
       "version_major": 2,
       "version_minor": 0,
       "model_id": "0ae2d9dff68d4eab926e89e9dc653040"
      }
     },
     "metadata": {},
     "output_type": "display_data"
    },
    {
     "data": {
      "text/plain": [
       "  📊 Processing columns for 2021:   0%|          | 0/20 [00:00<?, ?col/s]"
      ],
      "application/vnd.jupyter.widget-view+json": {
       "version_major": 2,
       "version_minor": 0,
       "model_id": "5ec7f3a87ef24421b7dcfe40182792a6"
      }
     },
     "metadata": {},
     "output_type": "display_data"
    },
    {
     "data": {
      "text/plain": [
       "  📊 Processing columns for 2022:   0%|          | 0/20 [00:00<?, ?col/s]"
      ],
      "application/vnd.jupyter.widget-view+json": {
       "version_major": 2,
       "version_minor": 0,
       "model_id": "a6c5e2838593487d93cd7f5aa8e0e4e1"
      }
     },
     "metadata": {},
     "output_type": "display_data"
    },
    {
     "data": {
      "text/plain": [
       "  📊 Processing columns for 2023:   0%|          | 0/20 [00:00<?, ?col/s]"
      ],
      "application/vnd.jupyter.widget-view+json": {
       "version_major": 2,
       "version_minor": 0,
       "model_id": "e420800657ab404ba9c05d86942b6abb"
      }
     },
     "metadata": {},
     "output_type": "display_data"
    },
    {
     "data": {
      "text/plain": [
       "  📊 Processing columns for 2024:   0%|          | 0/20 [00:00<?, ?col/s]"
      ],
      "application/vnd.jupyter.widget-view+json": {
       "version_major": 2,
       "version_minor": 0,
       "model_id": "27bc104495d64d58894c33a50c12426c"
      }
     },
     "metadata": {},
     "output_type": "display_data"
    },
    {
     "name": "stdout",
     "output_type": "stream",
     "text": [
      "✅ Statistics for every year recorded\n"
     ]
    }
   ],
   "execution_count": 42
  },
  {
   "metadata": {
    "ExecuteTime": {
     "end_time": "2025-10-10T16:03:12.920322Z",
     "start_time": "2025-10-10T16:03:12.914414Z"
    }
   },
   "cell_type": "code",
   "source": [
    "STATS_PATH = Path(\"../data/stats/stats_data.pkl\")\n",
    "STATS_PATH.parent.mkdir(parents=True, exist_ok=True)"
   ],
   "id": "dd60dc8fdba8e3d3",
   "outputs": [],
   "execution_count": 9
  },
  {
   "metadata": {
    "ExecuteTime": {
     "end_time": "2025-10-10T16:03:14.052852Z",
     "start_time": "2025-10-10T16:03:14.045220Z"
    }
   },
   "cell_type": "code",
   "source": [
    "with open(STATS_PATH, \"wb\") as file_stats:\n",
    "    pickle.dump(stats_data, file_stats)\n",
    "\n",
    "print(f\"✅ File save in: {STATS_PATH.resolve()}\")"
   ],
   "id": "a905c73213a86139",
   "outputs": [
    {
     "name": "stdout",
     "output_type": "stream",
     "text": [
      "✅ File save in: /home/imanol/Proyectos/prueba-wsl/analysis-nyc-taxi/data/stats/stats_data.pkl\n"
     ]
    }
   ],
   "execution_count": 10
  },
  {
   "metadata": {
    "ExecuteTime": {
     "end_time": "2025-10-10T17:01:29.038991Z",
     "start_time": "2025-10-10T17:01:29.003210Z"
    }
   },
   "cell_type": "code",
   "source": [
    "with open(STATS_PATH, \"rb\") as file_stats:\n",
    "    stats_data = pickle.load(file_stats)\n",
    "\n",
    "\n",
    "def build_stats_year(\n",
    "        stats: dict[int, dict[str, list[Any]]],\n",
    "        columns: Sequence[str] | None = None\n",
    ") -> pl.LazyFrame:\n",
    "    \"\"\"\n",
    "    Build a combined LazyFrame from yearly statistics dictionaries.\n",
    "\n",
    "    Each entry in stats must be a mapping of the form:\n",
    "    ``{year: {\"column\": [...], \"mean\": [...], \"std\": [...], ...}}``\n",
    "\n",
    "    The function creates one LazyFrame per year,\n",
    "    adds a year column to each, and vertically concatenates them.\n",
    "    Optionally, you can filter by one or more column names.\n",
    "\n",
    "    :param stats:\n",
    "        Mapping where each key is a year (int) and the value is a mapping of\n",
    "        statistic names to sequences of values. Example::\n",
    "\n",
    "            {\n",
    "                2011: {\"column\": [\"a\", \"b\"], \"mean\": [1.0, 2.0]},\n",
    "                2012: {\"column\": [\"a\", \"b\"], \"mean\": [1.1, 2.1]},\n",
    "            }\n",
    "    :param columns:\n",
    "        Optional sequence of column names to retain. If provided, only rows whose\n",
    "        column value is contained in columns will be included.\n",
    "    :return:\n",
    "        A vertically concatenated LazyFrame containing all years,\n",
    "        with an additional ``year`` column.\n",
    "    \"\"\"\n",
    "    lfs = [\n",
    "        pl.LazyFrame(stats[year], strict=False).with_columns(\n",
    "            pl.lit(year).alias(\"year\")\n",
    "        )\n",
    "        for year in stats\n",
    "    ]\n",
    "\n",
    "    if columns:\n",
    "        lfs = [\n",
    "            lf.filter(pl.col('column').is_in(columns))\n",
    "            for lf in lfs\n",
    "        ]\n",
    "\n",
    "    # Vertically concatenate every LazyFrame\n",
    "    return pl.concat(lfs, how=\"vertical\")\n",
    "\n",
    "\n",
    "stats_df = build_stats_year(stats_data).collect(\n",
    "    engine='streaming')\n",
    "stats_df.filter(pl.col(\"year\") == 2011)"
   ],
   "id": "c0e6eb9fc851662d",
   "outputs": [
    {
     "data": {
      "text/plain": [
       "shape: (20, 14)\n",
       "┌────────────┬────────────┬───────────┬────────────┬───┬────────────┬──────────┬────────────┬──────┐\n",
       "│ column     ┆ dtype      ┆ count     ┆ null_count ┆ … ┆ max        ┆ n_values ┆ cat_count  ┆ year │\n",
       "│ ---        ┆ ---        ┆ ---       ┆ ---        ┆   ┆ ---        ┆ ---      ┆ ---        ┆ ---  │\n",
       "│ str        ┆ object     ┆ i64       ┆ i64        ┆   ┆ str        ┆ i64      ┆ list[str]  ┆ i32  │\n",
       "╞════════════╪════════════╪═══════════╪════════════╪═══╪════════════╪══════════╪════════════╪══════╡\n",
       "│ vendorid   ┆ Categorica ┆ 176868282 ┆ 0          ┆ … ┆ null       ┆ 2        ┆ [\"1:       ┆ 2011 │\n",
       "│            ┆ l(ordering ┆           ┆            ┆   ┆            ┆          ┆ 90105578   ┆      │\n",
       "│            ┆ ='physical ┆           ┆            ┆   ┆            ┆          ┆ (50.95%)\", ┆      │\n",
       "│            ┆ …          ┆           ┆            ┆   ┆            ┆          ┆ \"2: 8…     ┆      │\n",
       "│ tpep_picku ┆ Datetime(t ┆ 176868282 ┆ 0          ┆ … ┆ 2011-12-31 ┆ 27505858 ┆ null       ┆ 2011 │\n",
       "│ p_datetime ┆ ime_unit=' ┆           ┆            ┆   ┆ 23:58:51   ┆          ┆            ┆      │\n",
       "│            ┆ ns',       ┆           ┆            ┆   ┆            ┆          ┆            ┆      │\n",
       "│            ┆ time_…     ┆           ┆            ┆   ┆            ┆          ┆            ┆      │\n",
       "│ tpep_dropo ┆ Datetime(t ┆ 176868282 ┆ 0          ┆ … ┆ 2011-12-31 ┆ 27529147 ┆ null       ┆ 2011 │\n",
       "│ ff_datetim ┆ ime_unit=' ┆           ┆            ┆   ┆ 23:59:59   ┆          ┆            ┆      │\n",
       "│ e          ┆ ns',       ┆           ┆            ┆   ┆            ┆          ┆            ┆      │\n",
       "│            ┆ time_…     ┆           ┆            ┆   ┆            ┆          ┆            ┆      │\n",
       "│ passenger_ ┆ Int16      ┆ 176868282 ┆ 0          ┆ … ┆ 255        ┆ 30       ┆ null       ┆ 2011 │\n",
       "│ count      ┆            ┆           ┆            ┆   ┆            ┆          ┆            ┆      │\n",
       "│ trip_dista ┆ Float32    ┆ 176868282 ┆ 0          ┆ … ┆ 100.0      ┆ 6081     ┆ null       ┆ 2011 │\n",
       "│ nce        ┆            ┆           ┆            ┆   ┆            ┆          ┆            ┆      │\n",
       "│ …          ┆ …          ┆ …         ┆ …          ┆ … ┆ …          ┆ …        ┆ …          ┆ …    │\n",
       "│ total_amou ┆ Float32    ┆ 176868282 ┆ 0          ┆ … ┆ 600.0      ┆ 15045    ┆ null       ┆ 2011 │\n",
       "│ nt         ┆            ┆           ┆            ┆   ┆            ┆          ┆            ┆      │\n",
       "│ congestion ┆ Float32    ┆ 176868282 ┆ 176868280  ┆ … ┆ 2.5        ┆ 3        ┆ null       ┆ 2011 │\n",
       "│ _surcharge ┆            ┆           ┆            ┆   ┆            ┆          ┆            ┆      │\n",
       "│ airport_fe ┆ Float32    ┆ 176868282 ┆ 176868281  ┆ … ┆ 0.0        ┆ 2        ┆ null       ┆ 2011 │\n",
       "│ e          ┆            ┆           ┆            ┆   ┆            ┆          ┆            ┆      │\n",
       "│ improvemen ┆ Float32    ┆ 176868282 ┆ 0          ┆ … ┆ 0.3        ┆ 2        ┆ null       ┆ 2011 │\n",
       "│ t_surcharg ┆            ┆           ┆            ┆   ┆            ┆          ┆            ┆      │\n",
       "│ e          ┆            ┆           ┆            ┆   ┆            ┆          ┆            ┆      │\n",
       "│ cbd_conges ┆ Float32    ┆ 176868282 ┆ 176868282  ┆ … ┆ null       ┆ 1        ┆ null       ┆ 2011 │\n",
       "│ tion_fee   ┆            ┆           ┆            ┆   ┆            ┆          ┆            ┆      │\n",
       "└────────────┴────────────┴───────────┴────────────┴───┴────────────┴──────────┴────────────┴──────┘"
      ],
      "text/html": [
       "<div><style>\n",
       ".dataframe > thead > tr,\n",
       ".dataframe > tbody > tr {\n",
       "  text-align: right;\n",
       "  white-space: pre-wrap;\n",
       "}\n",
       "</style>\n",
       "<small>shape: (20, 14)</small><table border=\"1\" class=\"dataframe\"><thead><tr><th>column</th><th>dtype</th><th>count</th><th>null_count</th><th>mean</th><th>std</th><th>min</th><th>25%</th><th>50%</th><th>75%</th><th>max</th><th>n_values</th><th>cat_count</th><th>year</th></tr><tr><td>str</td><td>object</td><td>i64</td><td>i64</td><td>f64</td><td>f64</td><td>str</td><td>str</td><td>str</td><td>str</td><td>str</td><td>i64</td><td>list[str]</td><td>i32</td></tr></thead><tbody><tr><td>&quot;vendorid&quot;</td><td>Categorical(ordering=&#x27;physical&#x27;)</td><td>176868282</td><td>0</td><td>null</td><td>null</td><td>null</td><td>null</td><td>null</td><td>null</td><td>null</td><td>2</td><td>[&quot;1: 90105578 (50.95%)&quot;, &quot;2: 86762704 (49.05%)&quot;]</td><td>2011</td></tr><tr><td>&quot;tpep_pickup_datetime&quot;</td><td>Datetime(time_unit=&#x27;ns&#x27;, time_zone=None)</td><td>176868282</td><td>0</td><td>null</td><td>null</td><td>&quot;2011-01-01 00:00:00&quot;</td><td>&quot;2011-04-02 19:33:53&quot;</td><td>&quot;2011-06-29 19:04:00&quot;</td><td>&quot;2011-10-02 20:31:34&quot;</td><td>&quot;2011-12-31 23:58:51&quot;</td><td>27505858</td><td>null</td><td>2011</td></tr><tr><td>&quot;tpep_dropoff_datetime&quot;</td><td>Datetime(time_unit=&#x27;ns&#x27;, time_zone=None)</td><td>176868282</td><td>0</td><td>null</td><td>null</td><td>&quot;2011-01-01 00:01:40&quot;</td><td>&quot;2011-04-02 19:45:25&quot;</td><td>&quot;2011-06-29 19:17:07&quot;</td><td>&quot;2011-10-02 20:43:00&quot;</td><td>&quot;2011-12-31 23:59:59&quot;</td><td>27529147</td><td>null</td><td>2011</td></tr><tr><td>&quot;passenger_count&quot;</td><td>Int16</td><td>176868282</td><td>0</td><td>1.651791</td><td>1.274265</td><td>&quot;0&quot;</td><td>&quot;1.0&quot;</td><td>&quot;1.0&quot;</td><td>&quot;2.0&quot;</td><td>&quot;255&quot;</td><td>30</td><td>null</td><td>2011</td></tr><tr><td>&quot;trip_distance&quot;</td><td>Float32</td><td>176868282</td><td>0</td><td>2.798321</td><td>3.266169</td><td>&quot;0.0&quot;</td><td>&quot;1.0&quot;</td><td>&quot;1.75&quot;</td><td>&quot;3.14&quot;</td><td>&quot;100.0&quot;</td><td>6081</td><td>null</td><td>2011</td></tr><tr><td>&hellip;</td><td>&hellip;</td><td>&hellip;</td><td>&hellip;</td><td>&hellip;</td><td>&hellip;</td><td>&hellip;</td><td>&hellip;</td><td>&hellip;</td><td>&hellip;</td><td>&hellip;</td><td>&hellip;</td><td>&hellip;</td><td>&hellip;</td></tr><tr><td>&quot;total_amount&quot;</td><td>Float32</td><td>176868282</td><td>0</td><td>12.225342</td><td>9.628098</td><td>&quot;2.5&quot;</td><td>&quot;7.0&quot;</td><td>&quot;9.4&quot;</td><td>&quot;13.5&quot;</td><td>&quot;600.0&quot;</td><td>15045</td><td>null</td><td>2011</td></tr><tr><td>&quot;congestion_surcharge&quot;</td><td>Float32</td><td>176868282</td><td>176868280</td><td>1.25</td><td>1.767767</td><td>&quot;0.0&quot;</td><td>&quot;0.0&quot;</td><td>&quot;2.5&quot;</td><td>&quot;2.5&quot;</td><td>&quot;2.5&quot;</td><td>3</td><td>null</td><td>2011</td></tr><tr><td>&quot;airport_fee&quot;</td><td>Float32</td><td>176868282</td><td>176868281</td><td>0.0</td><td>null</td><td>&quot;0.0&quot;</td><td>&quot;0.0&quot;</td><td>&quot;0.0&quot;</td><td>&quot;0.0&quot;</td><td>&quot;0.0&quot;</td><td>2</td><td>null</td><td>2011</td></tr><tr><td>&quot;improvement_surcharge&quot;</td><td>Float32</td><td>176868282</td><td>0</td><td>5.0885e-9</td><td>0.000039</td><td>&quot;0.0&quot;</td><td>&quot;0.0&quot;</td><td>&quot;0.0&quot;</td><td>&quot;0.0&quot;</td><td>&quot;0.3&quot;</td><td>2</td><td>null</td><td>2011</td></tr><tr><td>&quot;cbd_congestion_fee&quot;</td><td>Float32</td><td>176868282</td><td>176868282</td><td>null</td><td>null</td><td>null</td><td>null</td><td>null</td><td>null</td><td>null</td><td>1</td><td>null</td><td>2011</td></tr></tbody></table></div>"
      ]
     },
     "execution_count": 68,
     "metadata": {},
     "output_type": "execute_result"
    }
   ],
   "execution_count": 68
  },
  {
   "metadata": {},
   "cell_type": "markdown",
   "source": "## Análisis univariante",
   "id": "b93d883e73776588"
  },
  {
   "metadata": {
    "ExecuteTime": {
     "end_time": "2025-10-10T16:26:06.117377Z",
     "start_time": "2025-10-10T16:26:06.102427Z"
    }
   },
   "cell_type": "code",
   "source": "lf_yellow = pl.scan_parquet(f'../data/monthly/yellow_tripdata*.parquet')",
   "id": "304662779cce38c6",
   "outputs": [],
   "execution_count": 43
  },
  {
   "metadata": {},
   "cell_type": "markdown",
   "source": "### Valores Numéricos",
   "id": "74c6db81d9a8f5a2"
  },
  {
   "metadata": {
    "ExecuteTime": {
     "end_time": "2025-10-10T16:26:07.541226Z",
     "start_time": "2025-10-10T16:26:07.521123Z"
    }
   },
   "cell_type": "code",
   "source": [
    "numeric_col_names = pl.selectors.expand_selector(\n",
    "    lf_yellow, pl.selectors.numeric()\n",
    ")\n",
    "numeric_col_names"
   ],
   "id": "1670798139650476",
   "outputs": [
    {
     "data": {
      "text/plain": [
       "('passenger_count',\n",
       " 'trip_distance',\n",
       " 'pulocationid',\n",
       " 'dolocationid',\n",
       " 'fare_amount',\n",
       " 'extra',\n",
       " 'mta_tax',\n",
       " 'tip_amount',\n",
       " 'tolls_amount',\n",
       " 'total_amount',\n",
       " 'congestion_surcharge',\n",
       " 'airport_fee',\n",
       " 'improvement_surcharge',\n",
       " 'cbd_congestion_fee')"
      ]
     },
     "execution_count": 44,
     "metadata": {},
     "output_type": "execute_result"
    }
   ],
   "execution_count": 44
  },
  {
   "metadata": {
    "ExecuteTime": {
     "end_time": "2025-10-10T16:26:10.128326Z",
     "start_time": "2025-10-10T16:26:10.122995Z"
    }
   },
   "cell_type": "code",
   "source": "useless_cols = ['column', 'dtype', 'cat_count']",
   "id": "cb470bbf29a0ca8e",
   "outputs": [],
   "execution_count": 45
  },
  {
   "metadata": {},
   "cell_type": "markdown",
   "source": "#### passenger_count",
   "id": "434fc3b32b53a3d"
  },
  {
   "metadata": {
    "ExecuteTime": {
     "end_time": "2025-10-10T16:26:11.915194Z",
     "start_time": "2025-10-10T16:26:11.863381Z"
    }
   },
   "cell_type": "code",
   "source": [
    "\n",
    "passengers_df = (\n",
    "    stats_df.filter(pl.col(\"column\") == 'passenger_count')\n",
    "    .drop(useless_cols)\n",
    ")\n",
    "passengers_df.head(14)"
   ],
   "id": "646a0a705b4e1031",
   "outputs": [
    {
     "data": {
      "text/plain": [
       "shape: (14, 11)\n",
       "┌───────────┬────────────┬──────────┬──────────┬───┬─────┬─────┬──────────┬──────┐\n",
       "│ count     ┆ null_count ┆ mean     ┆ std      ┆ … ┆ 75% ┆ max ┆ n_values ┆ year │\n",
       "│ ---       ┆ ---        ┆ ---      ┆ ---      ┆   ┆ --- ┆ --- ┆ ---      ┆ ---  │\n",
       "│ i64       ┆ i64        ┆ f64      ┆ f64      ┆   ┆ str ┆ str ┆ i64      ┆ i32  │\n",
       "╞═══════════╪════════════╪══════════╪══════════╪═══╪═════╪═════╪══════════╪══════╡\n",
       "│ 176868282 ┆ 0          ┆ 1.651791 ┆ 1.274265 ┆ … ┆ 2.0 ┆ 255 ┆ 30       ┆ 2011 │\n",
       "│ 171355817 ┆ 0          ┆ 1.675829 ┆ 1.336898 ┆ … ┆ 2.0 ┆ 254 ┆ 17       ┆ 2012 │\n",
       "│ 171803359 ┆ 0          ┆ 1.707359 ┆ 1.374266 ┆ … ┆ 2.0 ┆ 255 ┆ 13       ┆ 2013 │\n",
       "│ 165436379 ┆ 0          ┆ 1.695883 ┆ 1.35678  ┆ … ┆ 2.0 ┆ 208 ┆ 11       ┆ 2014 │\n",
       "│ 146032859 ┆ 0          ┆ 1.680865 ┆ 1.33354  ┆ … ┆ 2.0 ┆ 9   ┆ 10       ┆ 2015 │\n",
       "│ …         ┆ …          ┆ …        ┆ …        ┆ … ┆ …   ┆ …   ┆ …        ┆ …    │\n",
       "│ 24627456  ┆ 790134     ┆ 1.467971 ┆ 1.112764 ┆ … ┆ 1.0 ┆ 9   ┆ 11       ┆ 2020 │\n",
       "│ 30864581  ┆ 1441507    ┆ 1.427459 ┆ 1.03337  ┆ … ┆ 1.0 ┆ 112 ┆ 13       ┆ 2021 │\n",
       "│ 39640436  ┆ 1355362    ┆ 1.40114  ┆ 0.962886 ┆ … ┆ 1.0 ┆ 9   ┆ 11       ┆ 2022 │\n",
       "│ 38306499  ┆ 1307666    ┆ 1.370422 ┆ 0.892589 ┆ … ┆ 1.0 ┆ 9   ┆ 11       ┆ 2023 │\n",
       "│ 41167114  ┆ 4090609    ┆ 1.333926 ┆ 0.815819 ┆ … ┆ 1.0 ┆ 9   ┆ 11       ┆ 2024 │\n",
       "└───────────┴────────────┴──────────┴──────────┴───┴─────┴─────┴──────────┴──────┘"
      ],
      "text/html": [
       "<div><style>\n",
       ".dataframe > thead > tr,\n",
       ".dataframe > tbody > tr {\n",
       "  text-align: right;\n",
       "  white-space: pre-wrap;\n",
       "}\n",
       "</style>\n",
       "<small>shape: (14, 11)</small><table border=\"1\" class=\"dataframe\"><thead><tr><th>count</th><th>null_count</th><th>mean</th><th>std</th><th>min</th><th>25%</th><th>50%</th><th>75%</th><th>max</th><th>n_values</th><th>year</th></tr><tr><td>i64</td><td>i64</td><td>f64</td><td>f64</td><td>str</td><td>str</td><td>str</td><td>str</td><td>str</td><td>i64</td><td>i32</td></tr></thead><tbody><tr><td>176868282</td><td>0</td><td>1.651791</td><td>1.274265</td><td>&quot;0&quot;</td><td>&quot;1.0&quot;</td><td>&quot;1.0&quot;</td><td>&quot;2.0&quot;</td><td>&quot;255&quot;</td><td>30</td><td>2011</td></tr><tr><td>171355817</td><td>0</td><td>1.675829</td><td>1.336898</td><td>&quot;0&quot;</td><td>&quot;1.0&quot;</td><td>&quot;1.0&quot;</td><td>&quot;2.0&quot;</td><td>&quot;254&quot;</td><td>17</td><td>2012</td></tr><tr><td>171803359</td><td>0</td><td>1.707359</td><td>1.374266</td><td>&quot;0&quot;</td><td>&quot;1.0&quot;</td><td>&quot;1.0&quot;</td><td>&quot;2.0&quot;</td><td>&quot;255&quot;</td><td>13</td><td>2013</td></tr><tr><td>165436379</td><td>0</td><td>1.695883</td><td>1.35678</td><td>&quot;0&quot;</td><td>&quot;1.0&quot;</td><td>&quot;1.0&quot;</td><td>&quot;2.0&quot;</td><td>&quot;208&quot;</td><td>11</td><td>2014</td></tr><tr><td>146032859</td><td>0</td><td>1.680865</td><td>1.33354</td><td>&quot;0&quot;</td><td>&quot;1.0&quot;</td><td>&quot;1.0&quot;</td><td>&quot;2.0&quot;</td><td>&quot;9&quot;</td><td>10</td><td>2015</td></tr><tr><td>&hellip;</td><td>&hellip;</td><td>&hellip;</td><td>&hellip;</td><td>&hellip;</td><td>&hellip;</td><td>&hellip;</td><td>&hellip;</td><td>&hellip;</td><td>&hellip;</td><td>&hellip;</td></tr><tr><td>24627456</td><td>790134</td><td>1.467971</td><td>1.112764</td><td>&quot;0&quot;</td><td>&quot;1.0&quot;</td><td>&quot;1.0&quot;</td><td>&quot;1.0&quot;</td><td>&quot;9&quot;</td><td>11</td><td>2020</td></tr><tr><td>30864581</td><td>1441507</td><td>1.427459</td><td>1.03337</td><td>&quot;0&quot;</td><td>&quot;1.0&quot;</td><td>&quot;1.0&quot;</td><td>&quot;1.0&quot;</td><td>&quot;112&quot;</td><td>13</td><td>2021</td></tr><tr><td>39640436</td><td>1355362</td><td>1.40114</td><td>0.962886</td><td>&quot;0&quot;</td><td>&quot;1.0&quot;</td><td>&quot;1.0&quot;</td><td>&quot;1.0&quot;</td><td>&quot;9&quot;</td><td>11</td><td>2022</td></tr><tr><td>38306499</td><td>1307666</td><td>1.370422</td><td>0.892589</td><td>&quot;0&quot;</td><td>&quot;1.0&quot;</td><td>&quot;1.0&quot;</td><td>&quot;1.0&quot;</td><td>&quot;9&quot;</td><td>11</td><td>2023</td></tr><tr><td>41167114</td><td>4090609</td><td>1.333926</td><td>0.815819</td><td>&quot;0&quot;</td><td>&quot;1.0&quot;</td><td>&quot;1.0&quot;</td><td>&quot;1.0&quot;</td><td>&quot;9&quot;</td><td>11</td><td>2024</td></tr></tbody></table></div>"
      ]
     },
     "execution_count": 46,
     "metadata": {},
     "output_type": "execute_result"
    }
   ],
   "execution_count": 46
  },
  {
   "metadata": {},
   "cell_type": "markdown",
   "source": [
    "Todos los años hay una media cercana a 1.5 y una desviación típica de entorno a 1. Además, podemos ver que el 50% de los datos tiene un pasajero o menos y que el 75% de los datos tienen menos de un pasajero. Lo que parece indicar que la mayoría de los viajes son de una sola persona.\n",
    "\n",
    "Sin embargo, vemos que el valor minimo para todos los años es 0 y que hay máximos en algunos años que llegan hasta 255. Ambos, resultados no tienen sentido uno por no poder haber viajes sin cliente y el otro por ser valores imposibles. Ya que mínimo tiene que haber un pasajero y máximo (si hay menores de 8 años) 6 pasajeros en un taxi grande.\n",
    "\n",
    "Para poder analizar mejor esta situación aprovecharemos que el número de valores distintos de la cuenta de pasajeros es pequeña y comprobaremos que valores diferentes tienen."
   ],
   "id": "180170e754929974"
  },
  {
   "metadata": {
    "ExecuteTime": {
     "end_time": "2025-10-10T16:26:33.150770Z",
     "start_time": "2025-10-10T16:26:33.139341Z"
    }
   },
   "cell_type": "code",
   "source": [
    "def count_unique_values(lf: pl.LazyFrame, column: str) -> pl.DataFrame:\n",
    "    \"\"\"\n",
    "Counts the unique values in a column and calculate its percentage and acumulative percentage.\n",
    "\n",
    ":param lf: LazyFrame object.\n",
    ":param column: Column name.\n",
    ":return: A polars dataframe with this columns {var_name, count, pct, cum_pct}.\n",
    "\"\"\"\n",
    "    return (\n",
    "        lf\n",
    "        .group_by(column)\n",
    "        .agg(pl.len().alias(\"count\"))\n",
    "        .with_columns(\n",
    "            (pl.col(\"count\") / pl.sum(\"count\") * 100).alias(\"pct\")\n",
    "        )\n",
    "        .sort(\"count\", descending=True)\n",
    "        .with_columns([\n",
    "            pl.col(\"pct\").cum_sum().alias(\"cum_pct\")  # % acumulado\n",
    "        ])\n",
    "        .rename({column: \"value\"})\n",
    "        .collect(engine=\"streaming\")\n",
    "    )"
   ],
   "id": "ba688ffc00637988",
   "outputs": [],
   "execution_count": 47
  },
  {
   "metadata": {
    "ExecuteTime": {
     "end_time": "2025-10-10T16:26:37.807860Z",
     "start_time": "2025-10-10T16:26:35.744249Z"
    }
   },
   "cell_type": "code",
   "source": [
    "passengers_unique_values = count_unique_values(\n",
    "    lf_yellow, numeric_col_names[0]\n",
    ")\n",
    "\n",
    "passengers_unique_values.head(10)"
   ],
   "id": "7db42d35211f4c31",
   "outputs": [
    {
     "data": {
      "text/plain": [
       "shape: (10, 4)\n",
       "┌───────┬────────────┬───────────┬───────────┐\n",
       "│ value ┆ count      ┆ pct       ┆ cum_pct   │\n",
       "│ ---   ┆ ---        ┆ ---       ┆ ---       │\n",
       "│ i16   ┆ u32        ┆ f64       ┆ f64       │\n",
       "╞═══════╪════════════╪═══════════╪═══════════╡\n",
       "│ 1     ┆ 1009802285 ┆ 70.213958 ┆ 70.213958 │\n",
       "│ 2     ┆ 206494051  ┆ 14.358023 ┆ 84.571981 │\n",
       "│ 5     ┆ 75316058   ┆ 5.236905  ┆ 89.808886 │\n",
       "│ 3     ┆ 60107373   ┆ 4.179409  ┆ 93.988295 │\n",
       "│ 6     ┆ 38359354   ┆ 2.667217  ┆ 96.655512 │\n",
       "│ 4     ┆ 29182904   ┆ 2.029157  ┆ 98.684669 │\n",
       "│ null  ┆ 9488030    ┆ 0.659725  ┆ 99.344394 │\n",
       "│ 0     ┆ 9422055    ┆ 0.655138  ┆ 99.999532 │\n",
       "│ 7     ┆ 2494       ┆ 0.000173  ┆ 99.999706 │\n",
       "│ 8     ┆ 2265       ┆ 0.000157  ┆ 99.999863 │\n",
       "└───────┴────────────┴───────────┴───────────┘"
      ],
      "text/html": [
       "<div><style>\n",
       ".dataframe > thead > tr,\n",
       ".dataframe > tbody > tr {\n",
       "  text-align: right;\n",
       "  white-space: pre-wrap;\n",
       "}\n",
       "</style>\n",
       "<small>shape: (10, 4)</small><table border=\"1\" class=\"dataframe\"><thead><tr><th>value</th><th>count</th><th>pct</th><th>cum_pct</th></tr><tr><td>i16</td><td>u32</td><td>f64</td><td>f64</td></tr></thead><tbody><tr><td>1</td><td>1009802285</td><td>70.213958</td><td>70.213958</td></tr><tr><td>2</td><td>206494051</td><td>14.358023</td><td>84.571981</td></tr><tr><td>5</td><td>75316058</td><td>5.236905</td><td>89.808886</td></tr><tr><td>3</td><td>60107373</td><td>4.179409</td><td>93.988295</td></tr><tr><td>6</td><td>38359354</td><td>2.667217</td><td>96.655512</td></tr><tr><td>4</td><td>29182904</td><td>2.029157</td><td>98.684669</td></tr><tr><td>null</td><td>9488030</td><td>0.659725</td><td>99.344394</td></tr><tr><td>0</td><td>9422055</td><td>0.655138</td><td>99.999532</td></tr><tr><td>7</td><td>2494</td><td>0.000173</td><td>99.999706</td></tr><tr><td>8</td><td>2265</td><td>0.000157</td><td>99.999863</td></tr></tbody></table></div>"
      ]
     },
     "execution_count": 48,
     "metadata": {},
     "output_type": "execute_result"
    }
   ],
   "execution_count": 48
  },
  {
   "metadata": {},
   "cell_type": "markdown",
   "source": "Casi el 100% de los datos están por debajo del valor 7, teniendo en cuenta 0 y null. Por lo que eliminaremos todos los valores por encima de 6. Además de convertir los valores 0 a null, ya que son errores y puede ser interesante registrarlos para futuros análisis.",
   "id": "768a077543875ceb"
  },
  {
   "metadata": {
    "ExecuteTime": {
     "end_time": "2025-10-10T16:26:42.578334Z",
     "start_time": "2025-10-10T16:26:42.571494Z"
    }
   },
   "cell_type": "code",
   "source": [
    "def passenger_count_filter(lf: pl.LazyFrame) -> pl.LazyFrame:\n",
    "    \"\"\"\n",
    "    Filter passenger counts minor equal to 6 and nulls.Also, change 0 values to null.\n",
    "\n",
    "    :param lf: LazyFrame to filter.\n",
    "    :return: LazyFrame with filtered passenger counts.\n",
    "    \"\"\"\n",
    "    filters = [\n",
    "        (pl.col(\"passenger_count\") <= 6)\n",
    "        | (pl.col(\"passenger_count\").is_null())\n",
    "    ]\n",
    "\n",
    "    return (\n",
    "        lf\n",
    "        .filter(filters)\n",
    "        .with_columns(\n",
    "            pl.when(pl.col(\"passenger_count\") == 0)\n",
    "            .then(None)\n",
    "            .otherwise(pl.col(\"passenger_count\"))\n",
    "            .alias(\"passenger_count\")\n",
    "        )\n",
    "    )"
   ],
   "id": "a43acb69b9e5edef",
   "outputs": [],
   "execution_count": 49
  },
  {
   "metadata": {
    "ExecuteTime": {
     "end_time": "2025-10-10T17:08:48.874694Z",
     "start_time": "2025-10-10T17:08:48.865816Z"
    }
   },
   "cell_type": "code",
   "source": "passenger_cleaned = passenger_count_filter(lf_yellow)",
   "id": "6047050acad4458",
   "outputs": [],
   "execution_count": 71
  },
  {
   "metadata": {
    "ExecuteTime": {
     "end_time": "2025-10-10T17:08:54.615775Z",
     "start_time": "2025-10-10T17:08:51.294941Z"
    }
   },
   "cell_type": "code",
   "source": [
    "passenger_dist = count_unique_values(passenger_cleaned, numeric_col_names[0])\n",
    "passenger_dist.head(7)"
   ],
   "id": "4bb5643aae3ca153",
   "outputs": [
    {
     "data": {
      "text/plain": [
       "shape: (7, 4)\n",
       "┌───────┬────────────┬───────────┬───────────┐\n",
       "│ value ┆ count      ┆ pct       ┆ cum_pct   │\n",
       "│ ---   ┆ ---        ┆ ---       ┆ ---       │\n",
       "│ i16   ┆ u32        ┆ f64       ┆ f64       │\n",
       "╞═══════╪════════════╪═══════════╪═══════════╡\n",
       "│ 1     ┆ 1009802285 ┆ 70.214286 ┆ 70.214286 │\n",
       "│ 2     ┆ 206494051  ┆ 14.35809  ┆ 84.572377 │\n",
       "│ 5     ┆ 75316058   ┆ 5.236929  ┆ 89.809306 │\n",
       "│ 3     ┆ 60107373   ┆ 4.179428  ┆ 93.988735 │\n",
       "│ 6     ┆ 38359354   ┆ 2.66723   ┆ 96.655964 │\n",
       "│ 4     ┆ 29182904   ┆ 2.029166  ┆ 98.685131 │\n",
       "│ null  ┆ 18910085   ┆ 1.314869  ┆ 100.0     │\n",
       "└───────┴────────────┴───────────┴───────────┘"
      ],
      "text/html": [
       "<div><style>\n",
       ".dataframe > thead > tr,\n",
       ".dataframe > tbody > tr {\n",
       "  text-align: right;\n",
       "  white-space: pre-wrap;\n",
       "}\n",
       "</style>\n",
       "<small>shape: (7, 4)</small><table border=\"1\" class=\"dataframe\"><thead><tr><th>value</th><th>count</th><th>pct</th><th>cum_pct</th></tr><tr><td>i16</td><td>u32</td><td>f64</td><td>f64</td></tr></thead><tbody><tr><td>1</td><td>1009802285</td><td>70.214286</td><td>70.214286</td></tr><tr><td>2</td><td>206494051</td><td>14.35809</td><td>84.572377</td></tr><tr><td>5</td><td>75316058</td><td>5.236929</td><td>89.809306</td></tr><tr><td>3</td><td>60107373</td><td>4.179428</td><td>93.988735</td></tr><tr><td>6</td><td>38359354</td><td>2.66723</td><td>96.655964</td></tr><tr><td>4</td><td>29182904</td><td>2.029166</td><td>98.685131</td></tr><tr><td>null</td><td>18910085</td><td>1.314869</td><td>100.0</td></tr></tbody></table></div>"
      ]
     },
     "execution_count": 72,
     "metadata": {},
     "output_type": "execute_result"
    }
   ],
   "execution_count": 72
  },
  {
   "metadata": {},
   "cell_type": "markdown",
   "source": "Ahora con passengers limpio vamos a ver visualmente por encima como se comporta",
   "id": "61dbd32925f23ef7"
  },
  {
   "metadata": {
    "ExecuteTime": {
     "end_time": "2025-10-10T17:09:20.960123Z",
     "start_time": "2025-10-10T17:09:20.765518Z"
    }
   },
   "cell_type": "code",
   "source": [
    "# We change the nulls for 0 to show it in the graph\n",
    "plt.bar(passenger_dist.fill_null(0)[\"value\"], passenger_dist[\"pct\"])\n",
    "plt.xlabel(\"Number of passengers\")\n",
    "plt.ylabel(\"% of trips\")\n",
    "plt.title(\"Passengers distribution per trip (NYC Yellow Taxis)\")\n",
    "plt.show()"
   ],
   "id": "b7a028434ad36eab",
   "outputs": [
    {
     "data": {
      "text/plain": [
       "<Figure size 640x480 with 1 Axes>"
      ],
      "image/png": "[encoded data removed]"
     },
     "metadata": {},
     "output_type": "display_data"
    }
   ],
   "execution_count": 73
  },
  {
   "metadata": {},
   "cell_type": "markdown",
   "source": [
    "Al analizar la distribución del número de pasajeros, observamos que la gran mayoría de los viajes se realizan con un solo pasajero, representando aproximadamente el 70% del total.\n",
    "\n",
    "Los viajes con dos pasajeros son el segundo grupo más frecuente (alrededor del 14%), seguidos a distancia por los viajes con cinco pasajeros (5%) y tres pasajeros (4%).\n",
    "Los trayectos con cuatro o seis pasajeros son menos comunes (entre el 2% y 3%), mientras que los registros nulos representan cerca del 1% de los datos.\n",
    "\n",
    "En conjunto, la distribución confirma que la mayoría de los desplazamientos en taxi se realizan de forma individual, con una presencia mucho menor de viajes grupales."
   ],
   "id": "f9737fa4a339bd1b"
  },
  {
   "metadata": {
    "ExecuteTime": {
     "end_time": "2025-10-10T16:37:43.039410Z",
     "start_time": "2025-10-10T16:32:23.993186Z"
    }
   },
   "cell_type": "code",
   "source": [
    "lf_passenger = passenger_cleaned.select([\n",
    "    pl.col(\"tpep_pickup_datetime\"), pl.col(\"passenger_count\")\n",
    "])\n",
    "\n",
    "passengers_stats = get_stats(lf=lf_passenger)"
   ],
   "id": "25d9c0f832385f7f",
   "outputs": [
    {
     "data": {
      "text/plain": [
       "📆 Recording annual statistics:   0%|          | 0/14 [00:00<?, ?year/s]"
      ],
      "application/vnd.jupyter.widget-view+json": {
       "version_major": 2,
       "version_minor": 0,
       "model_id": "af430c8ebdc54d3f9759aa2e5324801a"
      }
     },
     "metadata": {},
     "output_type": "display_data"
    },
    {
     "data": {
      "text/plain": [
       "  📊 Processing columns for 2011:   0%|          | 0/2 [00:00<?, ?col/s]"
      ],
      "application/vnd.jupyter.widget-view+json": {
       "version_major": 2,
       "version_minor": 0,
       "model_id": "b03958d451bb4244a3158eeb876273bc"
      }
     },
     "metadata": {},
     "output_type": "display_data"
    },
    {
     "data": {
      "text/plain": [
       "  📊 Processing columns for 2012:   0%|          | 0/2 [00:00<?, ?col/s]"
      ],
      "application/vnd.jupyter.widget-view+json": {
       "version_major": 2,
       "version_minor": 0,
       "model_id": "1453aa48a9d5474f8cb5cd80b64e13d6"
      }
     },
     "metadata": {},
     "output_type": "display_data"
    },
    {
     "data": {
      "text/plain": [
       "  📊 Processing columns for 2013:   0%|          | 0/2 [00:00<?, ?col/s]"
      ],
      "application/vnd.jupyter.widget-view+json": {
       "version_major": 2,
       "version_minor": 0,
       "model_id": "a47d7a8a60e846a6aa4855c53c02a76f"
      }
     },
     "metadata": {},
     "output_type": "display_data"
    },
    {
     "data": {
      "text/plain": [
       "  📊 Processing columns for 2014:   0%|          | 0/2 [00:00<?, ?col/s]"
      ],
      "application/vnd.jupyter.widget-view+json": {
       "version_major": 2,
       "version_minor": 0,
       "model_id": "f1bfc93470a14174b15e8df8d1a8b949"
      }
     },
     "metadata": {},
     "output_type": "display_data"
    },
    {
     "data": {
      "text/plain": [
       "  📊 Processing columns for 2015:   0%|          | 0/2 [00:00<?, ?col/s]"
      ],
      "application/vnd.jupyter.widget-view+json": {
       "version_major": 2,
       "version_minor": 0,
       "model_id": "17cf71fe98ea434c8cac51d9b69900b3"
      }
     },
     "metadata": {},
     "output_type": "display_data"
    },
    {
     "data": {
      "text/plain": [
       "  📊 Processing columns for 2016:   0%|          | 0/2 [00:00<?, ?col/s]"
      ],
      "application/vnd.jupyter.widget-view+json": {
       "version_major": 2,
       "version_minor": 0,
       "model_id": "3047ffd5984f40eea546eacc50399c56"
      }
     },
     "metadata": {},
     "output_type": "display_data"
    },
    {
     "data": {
      "text/plain": [
       "  📊 Processing columns for 2017:   0%|          | 0/2 [00:00<?, ?col/s]"
      ],
      "application/vnd.jupyter.widget-view+json": {
       "version_major": 2,
       "version_minor": 0,
       "model_id": "6502bd470db04de498eeec04c6a7cada"
      }
     },
     "metadata": {},
     "output_type": "display_data"
    },
    {
     "data": {
      "text/plain": [
       "  📊 Processing columns for 2018:   0%|          | 0/2 [00:00<?, ?col/s]"
      ],
      "application/vnd.jupyter.widget-view+json": {
       "version_major": 2,
       "version_minor": 0,
       "model_id": "93901e9a4ce5476aa77295bf20fceac0"
      }
     },
     "metadata": {},
     "output_type": "display_data"
    },
    {
     "data": {
      "text/plain": [
       "  📊 Processing columns for 2019:   0%|          | 0/2 [00:00<?, ?col/s]"
      ],
      "application/vnd.jupyter.widget-view+json": {
       "version_major": 2,
       "version_minor": 0,
       "model_id": "ba6793bf58f04905b9b04d51a4fc8e62"
      }
     },
     "metadata": {},
     "output_type": "display_data"
    },
    {
     "data": {
      "text/plain": [
       "  📊 Processing columns for 2020:   0%|          | 0/2 [00:00<?, ?col/s]"
      ],
      "application/vnd.jupyter.widget-view+json": {
       "version_major": 2,
       "version_minor": 0,
       "model_id": "2e9586a0b9ac4180afd3a3381b3ed0f2"
      }
     },
     "metadata": {},
     "output_type": "display_data"
    },
    {
     "data": {
      "text/plain": [
       "  📊 Processing columns for 2021:   0%|          | 0/2 [00:00<?, ?col/s]"
      ],
      "application/vnd.jupyter.widget-view+json": {
       "version_major": 2,
       "version_minor": 0,
       "model_id": "e15dbbaeaed147a58b2076acd1647953"
      }
     },
     "metadata": {},
     "output_type": "display_data"
    },
    {
     "data": {
      "text/plain": [
       "  📊 Processing columns for 2022:   0%|          | 0/2 [00:00<?, ?col/s]"
      ],
      "application/vnd.jupyter.widget-view+json": {
       "version_major": 2,
       "version_minor": 0,
       "model_id": "567d16a5e95c4393bac095fa86315d17"
      }
     },
     "metadata": {},
     "output_type": "display_data"
    },
    {
     "data": {
      "text/plain": [
       "  📊 Processing columns for 2023:   0%|          | 0/2 [00:00<?, ?col/s]"
      ],
      "application/vnd.jupyter.widget-view+json": {
       "version_major": 2,
       "version_minor": 0,
       "model_id": "de1164535ac14c38a571c41b079ea609"
      }
     },
     "metadata": {},
     "output_type": "display_data"
    },
    {
     "data": {
      "text/plain": [
       "  📊 Processing columns for 2024:   0%|          | 0/2 [00:00<?, ?col/s]"
      ],
      "application/vnd.jupyter.widget-view+json": {
       "version_major": 2,
       "version_minor": 0,
       "model_id": "4cc8c14cc3a6460a85e3da0af864a4bf"
      }
     },
     "metadata": {},
     "output_type": "display_data"
    },
    {
     "name": "stdout",
     "output_type": "stream",
     "text": [
      "✅ Statistics for every year recorded\n"
     ]
    }
   ],
   "execution_count": 57
  },
  {
   "metadata": {
    "ExecuteTime": {
     "end_time": "2025-10-10T17:05:32.474738Z",
     "start_time": "2025-10-10T17:05:32.442086Z"
    }
   },
   "cell_type": "code",
   "source": [
    "stats_df = (\n",
    "    build_stats_year(passengers_stats, ['passenger_count'])\n",
    "    .collect(engine='streaming')\n",
    ")\n",
    "stats_df.drop(useless_cols)"
   ],
   "id": "a62c2b7d0374bd31",
   "outputs": [
    {
     "data": {
      "text/plain": [
       "shape: (14, 11)\n",
       "┌───────────┬────────────┬──────────┬──────────┬───┬─────┬─────┬──────────┬──────┐\n",
       "│ count     ┆ null_count ┆ mean     ┆ std      ┆ … ┆ 75% ┆ max ┆ n_values ┆ year │\n",
       "│ ---       ┆ ---        ┆ ---      ┆ ---      ┆   ┆ --- ┆ --- ┆ ---      ┆ ---  │\n",
       "│ i64       ┆ i64        ┆ f64      ┆ f64      ┆   ┆ str ┆ str ┆ i64      ┆ i32  │\n",
       "╞═══════════╪════════════╪══════════╪══════════╪═══╪═════╪═════╪══════════╪══════╡\n",
       "│ 176868080 ┆ 2547009    ┆ 1.675756 ┆ 1.254581 ┆ … ┆ 2.0 ┆ 6   ┆ 7        ┆ 2011 │\n",
       "│ 171355659 ┆ 1242289    ┆ 1.68794  ┆ 1.324335 ┆ … ┆ 2.0 ┆ 6   ┆ 7        ┆ 2012 │\n",
       "│ 171803259 ┆ 4830       ┆ 1.707387 ┆ 1.37295  ┆ … ┆ 2.0 ┆ 6   ┆ 7        ┆ 2013 │\n",
       "│ 165435989 ┆ 7990       ┆ 1.695924 ┆ 1.354737 ┆ … ┆ 2.0 ┆ 6   ┆ 7        ┆ 2014 │\n",
       "│ 146032289 ┆ 40681      ┆ 1.681309 ┆ 1.333375 ┆ … ┆ 2.0 ┆ 6   ┆ 7        ┆ 2015 │\n",
       "│ …         ┆ …          ┆ …        ┆ …        ┆ … ┆ …   ┆ …   ┆ …        ┆ …    │\n",
       "│ 24627256  ┆ 1279514    ┆ 1.498686 ┆ 1.103516 ┆ … ┆ 2.0 ┆ 6   ┆ 7        ┆ 2020 │\n",
       "│ 30864417  ┆ 2145442    ┆ 1.462405 ┆ 1.020736 ┆ … ┆ 2.0 ┆ 6   ┆ 7        ┆ 2021 │\n",
       "│ 39640024  ┆ 2118691    ┆ 1.429577 ┆ 0.951236 ┆ … ┆ 1.0 ┆ 6   ┆ 7        ┆ 2022 │\n",
       "│ 38306090  ┆ 1890656    ┆ 1.392288 ┆ 0.882298 ┆ … ┆ 1.0 ┆ 6   ┆ 7        ┆ 2023 │\n",
       "│ 41166830  ┆ 4491953    ┆ 1.348472 ┆ 0.807977 ┆ … ┆ 1.0 ┆ 6   ┆ 7        ┆ 2024 │\n",
       "└───────────┴────────────┴──────────┴──────────┴───┴─────┴─────┴──────────┴──────┘"
      ],
      "text/html": [
       "<div><style>\n",
       ".dataframe > thead > tr,\n",
       ".dataframe > tbody > tr {\n",
       "  text-align: right;\n",
       "  white-space: pre-wrap;\n",
       "}\n",
       "</style>\n",
       "<small>shape: (14, 11)</small><table border=\"1\" class=\"dataframe\"><thead><tr><th>count</th><th>null_count</th><th>mean</th><th>std</th><th>min</th><th>25%</th><th>50%</th><th>75%</th><th>max</th><th>n_values</th><th>year</th></tr><tr><td>i64</td><td>i64</td><td>f64</td><td>f64</td><td>str</td><td>str</td><td>str</td><td>str</td><td>str</td><td>i64</td><td>i32</td></tr></thead><tbody><tr><td>176868080</td><td>2547009</td><td>1.675756</td><td>1.254581</td><td>&quot;1&quot;</td><td>&quot;1.0&quot;</td><td>&quot;1.0&quot;</td><td>&quot;2.0&quot;</td><td>&quot;6&quot;</td><td>7</td><td>2011</td></tr><tr><td>171355659</td><td>1242289</td><td>1.68794</td><td>1.324335</td><td>&quot;1&quot;</td><td>&quot;1.0&quot;</td><td>&quot;1.0&quot;</td><td>&quot;2.0&quot;</td><td>&quot;6&quot;</td><td>7</td><td>2012</td></tr><tr><td>171803259</td><td>4830</td><td>1.707387</td><td>1.37295</td><td>&quot;1&quot;</td><td>&quot;1.0&quot;</td><td>&quot;1.0&quot;</td><td>&quot;2.0&quot;</td><td>&quot;6&quot;</td><td>7</td><td>2013</td></tr><tr><td>165435989</td><td>7990</td><td>1.695924</td><td>1.354737</td><td>&quot;1&quot;</td><td>&quot;1.0&quot;</td><td>&quot;1.0&quot;</td><td>&quot;2.0&quot;</td><td>&quot;6&quot;</td><td>7</td><td>2014</td></tr><tr><td>146032289</td><td>40681</td><td>1.681309</td><td>1.333375</td><td>&quot;1&quot;</td><td>&quot;1.0&quot;</td><td>&quot;1.0&quot;</td><td>&quot;2.0&quot;</td><td>&quot;6&quot;</td><td>7</td><td>2015</td></tr><tr><td>&hellip;</td><td>&hellip;</td><td>&hellip;</td><td>&hellip;</td><td>&hellip;</td><td>&hellip;</td><td>&hellip;</td><td>&hellip;</td><td>&hellip;</td><td>&hellip;</td><td>&hellip;</td></tr><tr><td>24627256</td><td>1279514</td><td>1.498686</td><td>1.103516</td><td>&quot;1&quot;</td><td>&quot;1.0&quot;</td><td>&quot;1.0&quot;</td><td>&quot;2.0&quot;</td><td>&quot;6&quot;</td><td>7</td><td>2020</td></tr><tr><td>30864417</td><td>2145442</td><td>1.462405</td><td>1.020736</td><td>&quot;1&quot;</td><td>&quot;1.0&quot;</td><td>&quot;1.0&quot;</td><td>&quot;2.0&quot;</td><td>&quot;6&quot;</td><td>7</td><td>2021</td></tr><tr><td>39640024</td><td>2118691</td><td>1.429577</td><td>0.951236</td><td>&quot;1&quot;</td><td>&quot;1.0&quot;</td><td>&quot;1.0&quot;</td><td>&quot;1.0&quot;</td><td>&quot;6&quot;</td><td>7</td><td>2022</td></tr><tr><td>38306090</td><td>1890656</td><td>1.392288</td><td>0.882298</td><td>&quot;1&quot;</td><td>&quot;1.0&quot;</td><td>&quot;1.0&quot;</td><td>&quot;1.0&quot;</td><td>&quot;6&quot;</td><td>7</td><td>2023</td></tr><tr><td>41166830</td><td>4491953</td><td>1.348472</td><td>0.807977</td><td>&quot;1&quot;</td><td>&quot;1.0&quot;</td><td>&quot;1.0&quot;</td><td>&quot;1.0&quot;</td><td>&quot;6&quot;</td><td>7</td><td>2024</td></tr></tbody></table></div>"
      ]
     },
     "execution_count": 70,
     "metadata": {},
     "output_type": "execute_result"
    }
   ],
   "execution_count": 70
  },
  {
   "metadata": {
    "ExecuteTime": {
     "end_time": "2025-10-10T17:48:22.060182Z",
     "start_time": "2025-10-10T17:48:21.842222Z"
    }
   },
   "cell_type": "code",
   "source": [
    "plt.figure(figsize=(10, 6))\n",
    "\n",
    "# --- Áreas sombreadas por rangos de años ---\n",
    "plt.axvspan(2011, 2019, color=\"green\", alpha=0.01, label=\"Pre-Covid\")\n",
    "plt.axvspan(2019, 2023, color=\"red\", alpha=0.01, label=\"Covid\")\n",
    "plt.axvspan(2023, 2024, color=\"yellow\", alpha=0.01, label=\"Post-Covid\")\n",
    "\n",
    "plt.plot(stats_df[\"year\"], stats_df[\"mean\"], color=\"skyblue\", linewidth=2)\n",
    "\n",
    "plt.title(\"Annual evolution\", fontsize=14)\n",
    "plt.ylabel(\"Passenger Mean Count\")\n",
    "\n",
    "plt.xticks(stats_df[\"year\"], rotation=45)\n",
    "\n",
    "plt.grid(True, linestyle=\"--\", alpha=0.6)\n",
    "\n",
    "plt.gca().xaxis.grid(True, linestyle=\"--\", alpha=0.4)\n",
    "\n",
    "plt.legend()\n",
    "\n",
    "plt.tight_layout()\n",
    "plt.show()"
   ],
   "id": "a27a5a43dd0ef372",
   "outputs": [
    {
     "data": {
      "text/plain": [
       "<Figure size 1000x600 with 1 Axes>"
      ],
      "image/png": "[encoded data removed]"
     },
     "metadata": {},
     "output_type": "display_data"
    }
   ],
   "execution_count": 114
  },
  {
   "metadata": {},
   "cell_type": "markdown",
   "source": [
    "A partir de 2013 se observa una **disminución progresiva en el número medio de pasajeros por viaje**, una tendencia que se acentúa notablemente entre 2019 y 2020, coincidiendo con el inicio de la pandemia de la COVID-19.\n",
    "\n",
    "Desde 2020, la media se ha mantenido relativamente estable, lo que sugiere que el **patrón de uso del taxi en la ciudad se ha consolidado principalmente en viajes individuales**.\n",
    "\n",
    "En conjunto, estos resultados refuerzan la idea de que el desplazamiento en taxi es, en su mayoría, una **actividad unipersonal**, incluso tras la recuperación posterior a la pandemia."
   ],
   "id": "f84acafe2a0cecba"
  },
  {
   "metadata": {},
   "cell_type": "markdown",
   "source": "#### trip_distance",
   "id": "2722991571c627fe"
  },
  {
   "metadata": {
    "ExecuteTime": {
     "end_time": "2025-10-10T15:54:28.759275200Z",
     "start_time": "2025-10-10T15:43:23.866122Z"
    }
   },
   "cell_type": "code",
   "source": "",
   "id": "c5518190e23ec2c5",
   "outputs": [],
   "execution_count": null
  }
 ],
 "metadata": {
  "kernelspec": {
   "display_name": "nyc_tlc",
   "language": "python",
   "name": "nyc_tlc"
  },
  "language_info": {
   "codemirror_mode": {
    "name": "ipython",
    "version": 2
   },
   "file_extension": ".py",
   "mimetype": "text/x-python",
   "name": "python",
   "nbconvert_exporter": "python",
   "pygments_lexer": "ipython2",
   "version": "2.7.6"
  }
 },
 "nbformat": 4,
 "nbformat_minor": 5
}
